{
  "cells": [
    {
      "cell_type": "markdown",
      "metadata": {
        "colab_type": "text",
        "id": "view-in-github"
      },
      "source": [
        "<a href=\"https://colab.research.google.com/github/NickKar30/GM-HSE-AI-masters-course/blob/main/Hometasks/Base/GenDL_HT1_base.ipynb\" target=\"_parent\"><img src=\"https://colab.research.google.com/assets/colab-badge.svg\" alt=\"Open In Colab\"/></a>"
      ]
    },
    {
      "cell_type": "markdown",
      "metadata": {
        "id": "wQ2DRg1TS_np"
      },
      "source": [
        "# Домашнее задание - 1 (базовая группа)\n",
        "\n",
        "В этом домашнем задании вы потренируетесь решать задачу speech-to-text.\n",
        "\n",
        "Вы не будете тренировать сложную архитектуру с нуля, а попробуете решить эту задачу, пройдя по пайплайну, в котором задача разбита на несколько простых шагов.\n",
        "\n",
        "- В этом задании мы призываем вас по-максимуму использовать документацию моделей и получить опыт написания кода без заготовок"
      ]
    },
    {
      "cell_type": "markdown",
      "metadata": {
        "id": "_p9lL-VPdDCo"
      },
      "source": [
        "![image.png](data:image/png;base64,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)"
      ]
    },
    {
      "cell_type": "code",
      "execution_count": 1,
      "metadata": {},
      "outputs": [
        {
          "name": "stdout",
          "output_type": "stream",
          "text": [
            "/content/host\n",
            "\u001b[0m\u001b[01;34mdata_russian_speech\u001b[0m/  result_array.json                  urls_normalized.tsv\n",
            "\u001b[01;34mmodels\u001b[0m/               \u001b[01;34mrussian_spell_correction_dataset\u001b[0m/\n"
          ]
        }
      ],
      "source": [
        "%mkdir -p /content/host/\n",
        "%cd /content/host/\n",
        "%ls"
      ]
    },
    {
      "cell_type": "code",
      "execution_count": 2,
      "metadata": {
        "id": "LHP5e6rrEXzd"
      },
      "outputs": [],
      "source": [
        "# Установка всех необходимых пакетов\n",
        "%pip install -q pandas transformers datasets torchaudio torcheval evaluate openai huggingface_hub\n",
        "\n",
        "# не обновлять pandas выше 2.2.2 - требуется для Google Collab"
      ]
    },
    {
      "cell_type": "markdown",
      "metadata": {
        "id": "xJTV1KLsgF99"
      },
      "source": [
        "## Шаг 1 (1 балл)\n",
        "\n",
        "* Возьмите датасет https://disk.yandex.ru/d/v2Hipv7XG4fEDQ, содержащий русскоязычные аудиозаписи\n",
        "\n",
        "* Примените модель [whisper-small](https://huggingface.co/openai/whisper-small) из HF для определения сказанного в аудио.\n",
        "\n",
        "* Выведите результат работы модели для 10 случайных аудио из датасета\n",
        "\n",
        "Не стесняйтесь пользоваться документацией и источниками знаний из интернета!"
      ]
    },
    {
      "cell_type": "code",
      "execution_count": 3,
      "metadata": {
        "id": "GBIYfUYn0Ds5"
      },
      "outputs": [],
      "source": [
        "import os\n",
        "import random\n",
        "import torch\n",
        "import torchaudio\n",
        "from pathlib import Path\n",
        "import csv\n",
        "\n",
        "from transformers import WhisperProcessor, WhisperForConditionalGeneration\n"
      ]
    },
    {
      "cell_type": "markdown",
      "metadata": {},
      "source": [
        "### Загрузим список URL с файлами датасета"
      ]
    },
    {
      "cell_type": "code",
      "execution_count": 4,
      "metadata": {},
      "outputs": [
        {
          "name": "stdout",
          "output_type": "stream",
          "text": [
            "Найдено 100 URL для скачивания.\n"
          ]
        }
      ],
      "source": [
        "# предварительно сохранить файл https://disk.yandex.ru/d/v2Hipv7XG4fEDQ как `urls_normalized.tsv`\n",
        "\n",
        "DATA_ROOT = Path(\"data_russian_speech\")\n",
        "DATA_ROOT.mkdir(parents=True, exist_ok=True)\n",
        "TSV_PATH = Path(\"./urls_normalized.tsv\")\n",
        "\n",
        "urls = []\n",
        "\n",
        "with TSV_PATH.open(\"r\", encoding=\"utf-8\") as f:\n",
        "    tsv_reader = csv.reader(f, delimiter=\"\\t\")\n",
        "    for row in tsv_reader:\n",
        "        urls.append(row[0].strip())\n",
        "\n",
        "print(f\"Найдено {len(urls)} URL для скачивания.\")\n"
      ]
    },
    {
      "cell_type": "markdown",
      "metadata": {},
      "source": [
        "### Скачаем аудио-файлы"
      ]
    },
    {
      "cell_type": "code",
      "execution_count": 5,
      "metadata": {},
      "outputs": [
        {
          "name": "stdout",
          "output_type": "stream",
          "text": [
            "- Уже существует: 197f271b-b23f-4ee0-b240-e956a172d7af.wav\n",
            "- Уже существует: 3d8c8d43-f7f2-479b-a857-c90faa5e2faf.wav\n",
            "- Уже существует: 45161c4c-3f2c-4638-940e-a69404074ebb.wav\n",
            "- Уже существует: 3c0ebd62-2cc1-4c9c-be63-5733511a11cd.wav\n",
            "- Уже существует: 6385560c-7068-45c2-9ba7-9e061249e0a4.wav\n",
            "- Уже существует: c4f3178c-14b2-44f8-b36e-f34a47520e10.wav\n",
            "- Уже существует: 0f2ef6c9-3dec-45ae-b456-8115c9419044.wav\n",
            "- Уже существует: 4711cdac-8181-4f3c-8889-77cf408f3ff2.wav\n",
            "- Уже существует: 37e917e1-1fdf-4064-a74f-57a84bcb28b9.wav\n",
            "- Уже существует: d203c652-509b-4c41-bdaf-f374e1c3c87e.wav\n",
            "- Уже существует: c53908cc-adb1-418b-b68b-f67094fc4afd.wav\n",
            "- Уже существует: a6bab1dc-059b-4f93-a2ec-baef363ddcea.wav\n",
            "- Уже существует: dc7eedda-8db3-4ea5-abcd-d8ecb9fec734.wav\n",
            "- Уже существует: 29c0f7f4-9701-4e19-a4cd-874ec5397be1.wav\n",
            "- Уже существует: fcceeeb4-5bb7-460a-853c-99c3c7bd5aef.wav\n",
            "- Уже существует: 969c8460-29a8-4c6a-ac71-bc729a6d1f3d.wav\n",
            "- Уже существует: 22d8f014-0f11-447a-8133-fe1fb89c3e29.wav\n",
            "- Уже существует: 2a6d78d6-5b79-4ec1-bd9b-29b59c1960c1.wav\n",
            "- Уже существует: 51c8ac21-4179-4590-9c62-de34065cbaeb.wav\n",
            "- Уже существует: 08890a89-c3df-4e4a-b4ac-169a347791cc.wav\n",
            "- Уже существует: c5a115d7-015f-421c-94ce-ed9928151491.wav\n",
            "- Уже существует: ab7118eb-d4fc-419e-bf99-b01b3886d09a.wav\n",
            "- Уже существует: df8e6c78-0227-435c-92d0-b884bd61c91f.wav\n",
            "- Уже существует: 2e069c1d-11ba-4a51-84b1-f182b8a2999a.wav\n",
            "- Уже существует: d5bd3785-733a-4a95-b3ba-4d80ece002ee.wav\n",
            "- Уже существует: 0a1ff945-8476-4f17-a579-8780800592fd.wav\n",
            "- Уже существует: 2de4d7fe-2bca-4bff-98be-9fd22bc58919.wav\n",
            "- Уже существует: 6b061312-1923-4924-97de-21e31d6f5861.wav\n",
            "- Уже существует: 373c13d2-0039-4ca1-a549-1563d2a8ef0a.wav\n",
            "- Уже существует: 53085fa6-1df6-4d46-ae00-4ce2b89ac0ca.wav\n",
            "- Уже существует: 98ba5a8c-5469-458b-a850-fd41fe24c7e1.wav\n",
            "- Уже существует: 86aaebac-a43a-4f80-a6e4-136bfb5492e3.wav\n",
            "- Уже существует: 4ca1580f-5414-49b8-b816-72f623733105.wav\n",
            "- Уже существует: d6b51378-81b8-4b1f-8f80-0beef4a10592.wav\n",
            "- Уже существует: d92c0f04-21ec-4578-98ec-d05602683126.wav\n",
            "- Уже существует: 47b9b402-e832-438d-ad85-3f7375867e4a.wav\n",
            "- Уже существует: 236b63a8-8f37-444d-8340-25324620e985.wav\n",
            "- Уже существует: ba9e8621-7c94-46aa-93de-abb816732da7.wav\n",
            "- Уже существует: 871a6ddc-77b3-45e0-ab4d-2bdcddb78515.wav\n",
            "- Уже существует: 2b9c598f-c08f-43eb-ac28-72cf962a9a05.wav\n",
            "- Уже существует: 3274fc24-5460-43f4-8846-b77ffd73a202.wav\n",
            "- Уже существует: bbc64f47-2cfe-4cce-944d-2022fef45357.wav\n",
            "- Уже существует: 2927bb1d-9c94-470d-9763-e68dac6183b8.wav\n",
            "- Уже существует: 776a335c-4817-4ed4-8a63-4b88bfaf1c2d.wav\n",
            "- Уже существует: 537c7e5c-fda8-46f2-8395-4420dd34dec5.wav\n",
            "- Уже существует: ed3f4cd7-801b-4d3c-a237-a9d662d04fd5.wav\n",
            "- Уже существует: f72678b7-c101-402f-bf8c-825bf4d70418.wav\n",
            "- Уже существует: 9e07115e-bb04-49ad-bab5-c31c1ab70b27.wav\n",
            "- Уже существует: eb8495aa-d429-4326-9e42-f6786555647a.wav\n",
            "- Уже существует: 46a1b365-6ee9-43d6-8a36-42a37c40dbc0.wav\n",
            "- Уже существует: 8eec6bf4-818c-4852-8063-0bcc5d2e7175.wav\n",
            "- Уже существует: 5fdd45c8-59c9-4c90-bf81-e426cf597f40.wav\n",
            "- Уже существует: d69a744d-0510-4a61-9705-95901544390f.wav\n",
            "- Уже существует: 56280403-d892-44fb-864a-81fb2943c77c.wav\n",
            "- Уже существует: 84c7ed3f-4010-4de2-8a30-88a312be0bba.wav\n",
            "- Уже существует: 0a450eae-9d55-4bf0-aba8-a6f2e1162706.wav\n",
            "- Уже существует: ce29f3d2-8c47-4466-a2b5-7bcb73b0eb02.wav\n",
            "- Уже существует: 4201a552-ca79-4a67-9b2a-126d75d0a3be.wav\n",
            "- Уже существует: 0911b405-a657-46c2-8ab7-b8d3d0128510.wav\n",
            "- Уже существует: 1822f91a-1888-44fa-9104-f4d06d864010.wav\n",
            "- Уже существует: 59d62edf-fea9-4825-8f74-9e9927280f1e.wav\n",
            "- Уже существует: eb158b7a-c882-495f-955c-a20b23c3b4cb.wav\n",
            "- Уже существует: 77d390c1-45ad-414d-9843-640527a52018.wav\n",
            "- Уже существует: 703e7d9c-b170-4762-b5d3-c4fa8e4be0e8.wav\n",
            "- Уже существует: 6322d6cd-0928-4b4d-b96d-7cf78a86d7e6.wav\n",
            "- Уже существует: b85b751d-b0b9-4b74-a62f-53b26a0d95ca.wav\n",
            "- Уже существует: 66d66f3c-0ead-4714-95c7-6e6750fb8539.wav\n",
            "- Уже существует: 1c215f06-d03e-4094-96c7-db5b3c3d1105.wav\n",
            "- Уже существует: adaaff15-9678-41d6-abe1-84ee20c24c44.wav\n",
            "- Уже существует: 712d06b3-ebd5-4bc0-ba8d-5fd1e7969458.wav\n",
            "- Уже существует: 533e00e4-0e05-4319-b82e-411ab57b8802.wav\n",
            "- Уже существует: 13256106-9e6e-46fc-9c22-efec2a7de09f.wav\n",
            "- Уже существует: 286bd6c3-a984-4eb6-8955-b27643b1cfd7.wav\n",
            "- Уже существует: 4bd0ad25-e86a-4275-85b6-4d11ac96cfdc.wav\n",
            "- Уже существует: 7bb27c39-5384-4e77-a6c8-bf9789c00337.wav\n",
            "- Уже существует: 759edbe2-5d4f-4c88-acdc-439fcd5eb6c1.wav\n",
            "- Уже существует: 1972e18d-dc62-418f-8a00-61f3235bbab9.wav\n",
            "- Уже существует: 3159d866-1c94-41ed-a274-e8ccee3fb966.wav\n",
            "- Уже существует: f41d0849-5116-4900-b4c5-c9e201c30e06.wav\n",
            "- Уже существует: 4c0f8f80-99f2-4dba-b54f-1860e07af180.wav\n",
            "- Уже существует: 2144ca43-13e4-49ad-9c8e-5a5ecf8599d9.wav\n",
            "- Уже существует: eebe7151-43f7-4e5f-af3d-d7a1a3ab2197.wav\n",
            "- Уже существует: 0b495d2e-a15e-4ee6-8283-316fb821abf2.wav\n",
            "- Уже существует: 38e898d9-0707-4b1f-a01a-c2da05315be6.wav\n",
            "- Уже существует: ca50a690-f1af-4a75-84e7-a8b121eff5e7.wav\n",
            "- Уже существует: 6aa3e60d-d38a-4828-8e07-5cb28ce1677c.wav\n",
            "- Уже существует: 1f418f48-7d16-41c4-b1ec-a06ec58aacfd.wav\n",
            "- Уже существует: f3a2f832-413e-49e7-a332-f565694c7604.wav\n",
            "- Уже существует: 5baa289b-4373-47ff-8203-4462e052510f.wav\n",
            "- Уже существует: 25c34061-fef9-4563-a813-e36b910f1e70.wav\n",
            "- Уже существует: 52f5c4dd-0c56-4e90-9f9b-162e2eab83f5.wav\n",
            "- Уже существует: 86cae6ee-fe19-43b7-b6c7-cd30736167b1.wav\n",
            "- Уже существует: c2338438-18b4-456a-b51f-d661f7473eac.wav\n",
            "- Уже существует: e3c3340d-2ac2-4c10-be96-8ee64b425d7b.wav\n",
            "- Уже существует: 09c0c412-2316-4bf4-9f92-8349067de618.wav\n",
            "- Уже существует: 00760e69-35b8-4c65-84f6-c1d0e82907c2.wav\n",
            "- Уже существует: ed83b5df-882e-45ce-80b5-80a174a1c10c.wav\n",
            "- Уже существует: 163e0da8-750f-45d4-b5d5-8982fb060c12.wav\n",
            "- Уже существует: af0b23ef-7519-49e0-b32c-cab81f50f2f7.wav\n",
            "- Уже существует: f9d9fa24-0e3c-430f-8e42-622a0fa0c6a5.wav\n"
          ]
        }
      ],
      "source": [
        "import requests\n",
        "from tqdm.auto import tqdm\n",
        "\n",
        "def download_file(url: str, dest_path: Path):\n",
        "    \"\"\"Загрузка одного файла (с прогресс-баром).\"\"\"\n",
        "    filename = url.split(\"/\")[-1] + \".wav\"\n",
        "    target_file = dest_path / filename\n",
        "\n",
        "    if target_file.is_file():\n",
        "        print(f\"- Уже существует: {filename}\")\n",
        "        return\n",
        "\n",
        "    # Потоковое скачивание, чтобы не грузить много в память\n",
        "    with requests.get(url, stream=True, timeout=30) as r:\n",
        "        r.raise_for_status()\n",
        "        total = int(r.headers.get(\"content-length\", 0))\n",
        "        with tqdm(total=total, unit=\"B\", unit_scale=True, desc=filename) as pbar:\n",
        "            with open(target_file, \"wb\") as f:\n",
        "                for chunk in r.iter_content(chunk_size=8192):\n",
        "                    if chunk:  # могут быть пустые - keep-alive\n",
        "                        f.write(chunk)\n",
        "                        pbar.update(len(chunk))\n",
        "\n",
        "    print(f\"+ Загружен: {filename}\")\n",
        "\n",
        "for url in urls:\n",
        "    try:\n",
        "        download_file(url, DATA_ROOT)\n",
        "    except Exception as e:\n",
        "        print(f\"Х Ошибка загрузки {url}: {e}\")\n"
      ]
    },
    {
      "cell_type": "markdown",
      "metadata": {},
      "source": [
        "### Вспомогательные функции загрузки аудио-файлов"
      ]
    },
    {
      "cell_type": "code",
      "execution_count": 6,
      "metadata": {},
      "outputs": [
        {
          "name": "stdout",
          "output_type": "stream",
          "text": [
            "Загружено: torch.Size([1, 36160]) @ 16000Hz\n"
          ]
        }
      ],
      "source": [
        "import wave\n",
        "import numpy as np\n",
        "import torch\n",
        "\n",
        "def load_wav_file(filepath):\n",
        "    \"\"\"Считывание WAV-файла и получение тензора PyTorch\"\"\"\n",
        "    with wave.open(filepath, 'rb') as wav_file:\n",
        "        # Параметры аудиофайла\n",
        "        channels = wav_file.getnchannels()\n",
        "        sample_width = wav_file.getsampwidth()\n",
        "        framerate = wav_file.getframerate()\n",
        "        frames = wav_file.getnframes()\n",
        "        \n",
        "        # Считаем аудиоданные\n",
        "        raw_audio = wav_file.readframes(frames)\n",
        "        \n",
        "        # Конвертируем в numpy array\n",
        "        if sample_width == 1:\n",
        "            dtype = np.uint8\n",
        "        elif sample_width == 2:\n",
        "            dtype = np.int16\n",
        "        elif sample_width == 4:\n",
        "            dtype = np.int32\n",
        "        else:\n",
        "            raise ValueError(f'Неподдерживаемый \"sample width\": {sample_width}')\n",
        "            \n",
        "        audio_data = np.frombuffer(raw_audio, dtype=dtype)\n",
        "        \n",
        "        # Reshape, если многоканальное аудио\n",
        "        if channels > 1:\n",
        "            audio_data = audio_data.reshape(-1, channels)\n",
        "            \n",
        "        # Нормализация к диапазону [-1, 1]\n",
        "        if dtype == np.uint8:\n",
        "            audio_data = (audio_data.astype(np.float32) - 128) / 128\n",
        "        else:\n",
        "            audio_data = audio_data.astype(np.float32) / np.iinfo(dtype).max\n",
        "            \n",
        "        tensor = torch.from_numpy(audio_data)\n",
        "        \n",
        "        # Приведение к структуре (channels, samples) для PyTorch\n",
        "        if len(tensor.shape) == 1:\n",
        "            tensor = tensor.unsqueeze(0)  # добавить измерение\n",
        "        else:\n",
        "            tensor = tensor.transpose(0, 1)  # переставить измерения (samples, channels) -> (channels, samples)\n",
        "            \n",
        "        return tensor, framerate\n",
        "\n",
        "# тестовый \n",
        "device = \"cuda\" if torch.cuda.is_available() else \"mps\" if torch.backends.mps.is_available() else \"cpu\"\n",
        "audio_tensor, sample_rate = load_wav_file(\"./data_russian_speech/00760e69-35b8-4c65-84f6-c1d0e82907c2.wav\")\n",
        "audio_tensor = audio_tensor.to(device)\n",
        "\n",
        "print(f\"Загружено: {audio_tensor.shape} @ {sample_rate}Hz\")\n"
      ]
    },
    {
      "cell_type": "code",
      "execution_count": 7,
      "metadata": {},
      "outputs": [],
      "source": [
        "import torchaudio\n",
        "def load_audio(path: str, target_sr: int = 16000):\n",
        "    wav, sr = load_wav_file(path)\n",
        "    # Многоканальное усредним до \"моно\"\n",
        "    if wav.shape[0] > 1:\n",
        "        wav = wav.mean(dim=0, keepdim=True)\n",
        "    # пересэмплируйте имеющиеся аудио в 16 kHz - пример кода ниже, можете его менять\n",
        "    if sr != target_sr:\n",
        "        wav = torchaudio.functional.resample(wav, orig_freq=sr, new_freq=target_sr)\n",
        "        sr = target_sr\n",
        "    return wav.squeeze(0), sr\n"
      ]
    },
    {
      "cell_type": "markdown",
      "metadata": {},
      "source": [
        "### Подготовка модели Whisper"
      ]
    },
    {
      "cell_type": "code",
      "execution_count": 10,
      "metadata": {
        "id": "yeWbkBn5X_xN"
      },
      "outputs": [],
      "source": [
        "import os\n",
        "from dotenv import load_dotenv\n",
        "from google.colab import userdata\n",
        "\n",
        "try:\n",
        "    # Если в Google Colab, то используем userdata\n",
        "    API_KEY = userdata.get('OPENROUTER_API_KEY')\n",
        "    HF_TOKEN = userdata.get('HUGGINGFACE_TOKEN')\n",
        "except Exception as e:  # если нет usertada, то будет исключение\n",
        "    # Тогда читаем из .env файла в текущей директории /content/host/\n",
        "    load_dotenv()\n",
        "    API_KEY = os.getenv('OPENROUTER_API_KEY')\n",
        "    HF_TOKEN = os.getenv('HUGGINGFACE_TOKEN')\n",
        "\n",
        "# Для теста можно задать ключи вручную\n",
        "if API_KEY is None:\n",
        "    API_KEY = \"---- ВПИШИТЕ СЮДА КЛЮЧ ----\"\n",
        "if HF_TOKEN is None:\n",
        "    HF_TOKEN = \"---- ВПИШИТЕ СЮДА КЛЮЧ ----\"\n",
        "\n",
        "os.environ[\"OPENROUTER_API_KEY\"] = API_KEY\n",
        "os.environ[\"HF_TOKEN\"] = HF_TOKEN\n",
        "MODEL_NAME = \"deepseek/deepseek-chat-v3.1:free\""
      ]
    },
    {
      "cell_type": "markdown",
      "metadata": {},
      "source": [
        "> При наличии токена HF_TOKEN почему-то иногда подключение к HF зависает.\n",
        "> Помогает перезапуск ячейки."
      ]
    },
    {
      "cell_type": "code",
      "execution_count": 12,
      "metadata": {},
      "outputs": [
        {
          "data": {
            "application/vnd.jupyter.widget-view+json": {
              "model_id": "f3bff79727dc445f88b2045cf988b9dd",
              "version_major": 2,
              "version_minor": 0
            },
            "text/plain": [
              "Fetching 1 files:   0%|          | 0/1 [00:00<?, ?it/s]"
            ]
          },
          "metadata": {},
          "output_type": "display_data"
        },
        {
          "data": {
            "text/plain": [
              "WhisperForConditionalGeneration(\n",
              "  (model): WhisperModel(\n",
              "    (encoder): WhisperEncoder(\n",
              "      (conv1): Conv1d(80, 768, kernel_size=(3,), stride=(1,), padding=(1,))\n",
              "      (conv2): Conv1d(768, 768, kernel_size=(3,), stride=(2,), padding=(1,))\n",
              "      (embed_positions): Embedding(1500, 768)\n",
              "      (layers): ModuleList(\n",
              "        (0-11): 12 x WhisperEncoderLayer(\n",
              "          (self_attn): WhisperAttention(\n",
              "            (k_proj): Linear(in_features=768, out_features=768, bias=False)\n",
              "            (v_proj): Linear(in_features=768, out_features=768, bias=True)\n",
              "            (q_proj): Linear(in_features=768, out_features=768, bias=True)\n",
              "            (out_proj): Linear(in_features=768, out_features=768, bias=True)\n",
              "          )\n",
              "          (self_attn_layer_norm): LayerNorm((768,), eps=1e-05, elementwise_affine=True)\n",
              "          (activation_fn): GELUActivation()\n",
              "          (fc1): Linear(in_features=768, out_features=3072, bias=True)\n",
              "          (fc2): Linear(in_features=3072, out_features=768, bias=True)\n",
              "          (final_layer_norm): LayerNorm((768,), eps=1e-05, elementwise_affine=True)\n",
              "        )\n",
              "      )\n",
              "      (layer_norm): LayerNorm((768,), eps=1e-05, elementwise_affine=True)\n",
              "    )\n",
              "    (decoder): WhisperDecoder(\n",
              "      (embed_tokens): Embedding(51865, 768, padding_idx=50257)\n",
              "      (embed_positions): WhisperPositionalEmbedding(448, 768)\n",
              "      (layers): ModuleList(\n",
              "        (0-11): 12 x WhisperDecoderLayer(\n",
              "          (self_attn): WhisperAttention(\n",
              "            (k_proj): Linear(in_features=768, out_features=768, bias=False)\n",
              "            (v_proj): Linear(in_features=768, out_features=768, bias=True)\n",
              "            (q_proj): Linear(in_features=768, out_features=768, bias=True)\n",
              "            (out_proj): Linear(in_features=768, out_features=768, bias=True)\n",
              "          )\n",
              "          (activation_fn): GELUActivation()\n",
              "          (self_attn_layer_norm): LayerNorm((768,), eps=1e-05, elementwise_affine=True)\n",
              "          (encoder_attn): WhisperAttention(\n",
              "            (k_proj): Linear(in_features=768, out_features=768, bias=False)\n",
              "            (v_proj): Linear(in_features=768, out_features=768, bias=True)\n",
              "            (q_proj): Linear(in_features=768, out_features=768, bias=True)\n",
              "            (out_proj): Linear(in_features=768, out_features=768, bias=True)\n",
              "          )\n",
              "          (encoder_attn_layer_norm): LayerNorm((768,), eps=1e-05, elementwise_affine=True)\n",
              "          (fc1): Linear(in_features=768, out_features=3072, bias=True)\n",
              "          (fc2): Linear(in_features=3072, out_features=768, bias=True)\n",
              "          (final_layer_norm): LayerNorm((768,), eps=1e-05, elementwise_affine=True)\n",
              "        )\n",
              "      )\n",
              "      (layer_norm): LayerNorm((768,), eps=1e-05, elementwise_affine=True)\n",
              "    )\n",
              "  )\n",
              "  (proj_out): Linear(in_features=768, out_features=51865, bias=False)\n",
              ")"
            ]
          },
          "execution_count": 12,
          "metadata": {},
          "output_type": "execute_result"
        }
      ],
      "source": [
        "model_name = \"openai/whisper-small\"\n",
        "\n",
        "# загрузка пре-процессора (токенизатор и конвертер в mel-спектрограммы)\n",
        "processor = WhisperProcessor.from_pretrained(model_name)\n",
        "# загрузка самой модели \n",
        "model = WhisperForConditionalGeneration.from_pretrained(model_name).to(device)\n",
        "# перевод в режим инференса\n",
        "model.eval()"
      ]
    },
    {
      "cell_type": "markdown",
      "metadata": {},
      "source": [
        "### Запуск распознавания аудио"
      ]
    },
    {
      "cell_type": "code",
      "execution_count": 13,
      "metadata": {},
      "outputs": [
        {
          "name": "stdout",
          "output_type": "stream",
          "text": [
            "Найдено 100 аудиофайлов для обработки\n",
            "Обрабатывается файл 1/100: 86cae6ee-fe19-43b7-b6c7-cd30736167b1.wav\n",
            "Транскрипция сохранена в: 86cae6ee-fe19-43b7-b6c7-cd30736167b1.txt\n",
            "Обрабатывается файл 2/100: 37e917e1-1fdf-4064-a74f-57a84bcb28b9.wav\n",
            "Транскрипция сохранена в: 37e917e1-1fdf-4064-a74f-57a84bcb28b9.txt\n",
            "Обрабатывается файл 3/100: 00760e69-35b8-4c65-84f6-c1d0e82907c2.wav\n",
            "Транскрипция сохранена в: 00760e69-35b8-4c65-84f6-c1d0e82907c2.txt\n",
            "Обрабатывается файл 4/100: d6b51378-81b8-4b1f-8f80-0beef4a10592.wav\n",
            "Транскрипция сохранена в: d6b51378-81b8-4b1f-8f80-0beef4a10592.txt\n",
            "Обрабатывается файл 5/100: df8e6c78-0227-435c-92d0-b884bd61c91f.wav\n",
            "Транскрипция сохранена в: df8e6c78-0227-435c-92d0-b884bd61c91f.txt\n",
            "Обрабатывается файл 6/100: ed83b5df-882e-45ce-80b5-80a174a1c10c.wav\n",
            "Транскрипция сохранена в: ed83b5df-882e-45ce-80b5-80a174a1c10c.txt\n",
            "Обрабатывается файл 7/100: 53085fa6-1df6-4d46-ae00-4ce2b89ac0ca.wav\n",
            "Транскрипция сохранена в: 53085fa6-1df6-4d46-ae00-4ce2b89ac0ca.txt\n",
            "Обрабатывается файл 8/100: ca50a690-f1af-4a75-84e7-a8b121eff5e7.wav\n",
            "Транскрипция сохранена в: ca50a690-f1af-4a75-84e7-a8b121eff5e7.txt\n",
            "Обрабатывается файл 9/100: bbc64f47-2cfe-4cce-944d-2022fef45357.wav\n",
            "Транскрипция сохранена в: bbc64f47-2cfe-4cce-944d-2022fef45357.txt\n",
            "Обрабатывается файл 10/100: 8eec6bf4-818c-4852-8063-0bcc5d2e7175.wav\n",
            "Транскрипция сохранена в: 8eec6bf4-818c-4852-8063-0bcc5d2e7175.txt\n",
            "Обрабатывается файл 11/100: b85b751d-b0b9-4b74-a62f-53b26a0d95ca.wav\n",
            "Транскрипция сохранена в: b85b751d-b0b9-4b74-a62f-53b26a0d95ca.txt\n",
            "Обрабатывается файл 12/100: 0f2ef6c9-3dec-45ae-b456-8115c9419044.wav\n",
            "Транскрипция сохранена в: 0f2ef6c9-3dec-45ae-b456-8115c9419044.txt\n",
            "Обрабатывается файл 13/100: 52f5c4dd-0c56-4e90-9f9b-162e2eab83f5.wav\n",
            "Транскрипция сохранена в: 52f5c4dd-0c56-4e90-9f9b-162e2eab83f5.txt\n",
            "Обрабатывается файл 14/100: 98ba5a8c-5469-458b-a850-fd41fe24c7e1.wav\n",
            "Транскрипция сохранена в: 98ba5a8c-5469-458b-a850-fd41fe24c7e1.txt\n",
            "Обрабатывается файл 15/100: 163e0da8-750f-45d4-b5d5-8982fb060c12.wav\n",
            "Транскрипция сохранена в: 163e0da8-750f-45d4-b5d5-8982fb060c12.txt\n",
            "Обрабатывается файл 16/100: 759edbe2-5d4f-4c88-acdc-439fcd5eb6c1.wav\n",
            "Транскрипция сохранена в: 759edbe2-5d4f-4c88-acdc-439fcd5eb6c1.txt\n",
            "Обрабатывается файл 17/100: 22d8f014-0f11-447a-8133-fe1fb89c3e29.wav\n",
            "Транскрипция сохранена в: 22d8f014-0f11-447a-8133-fe1fb89c3e29.txt\n",
            "Обрабатывается файл 18/100: 6322d6cd-0928-4b4d-b96d-7cf78a86d7e6.wav\n",
            "Транскрипция сохранена в: 6322d6cd-0928-4b4d-b96d-7cf78a86d7e6.txt\n",
            "Обрабатывается файл 19/100: 0911b405-a657-46c2-8ab7-b8d3d0128510.wav\n",
            "Транскрипция сохранена в: 0911b405-a657-46c2-8ab7-b8d3d0128510.txt\n",
            "Обрабатывается файл 20/100: 712d06b3-ebd5-4bc0-ba8d-5fd1e7969458.wav\n",
            "Транскрипция сохранена в: 712d06b3-ebd5-4bc0-ba8d-5fd1e7969458.txt\n",
            "Обрабатывается файл 21/100: 7bb27c39-5384-4e77-a6c8-bf9789c00337.wav\n",
            "Транскрипция сохранена в: 7bb27c39-5384-4e77-a6c8-bf9789c00337.txt\n",
            "Обрабатывается файл 22/100: 25c34061-fef9-4563-a813-e36b910f1e70.wav\n",
            "Транскрипция сохранена в: 25c34061-fef9-4563-a813-e36b910f1e70.txt\n",
            "Обрабатывается файл 23/100: 6aa3e60d-d38a-4828-8e07-5cb28ce1677c.wav\n",
            "Транскрипция сохранена в: 6aa3e60d-d38a-4828-8e07-5cb28ce1677c.txt\n",
            "Обрабатывается файл 24/100: 13256106-9e6e-46fc-9c22-efec2a7de09f.wav\n",
            "Транскрипция сохранена в: 13256106-9e6e-46fc-9c22-efec2a7de09f.txt\n",
            "Обрабатывается файл 25/100: 197f271b-b23f-4ee0-b240-e956a172d7af.wav\n",
            "Транскрипция сохранена в: 197f271b-b23f-4ee0-b240-e956a172d7af.txt\n",
            "Обрабатывается файл 26/100: eb8495aa-d429-4326-9e42-f6786555647a.wav\n",
            "Транскрипция сохранена в: eb8495aa-d429-4326-9e42-f6786555647a.txt\n",
            "Обрабатывается файл 27/100: 2de4d7fe-2bca-4bff-98be-9fd22bc58919.wav\n",
            "Транскрипция сохранена в: 2de4d7fe-2bca-4bff-98be-9fd22bc58919.txt\n",
            "Обрабатывается файл 28/100: 38e898d9-0707-4b1f-a01a-c2da05315be6.wav\n",
            "Транскрипция сохранена в: 38e898d9-0707-4b1f-a01a-c2da05315be6.txt\n",
            "Обрабатывается файл 29/100: 84c7ed3f-4010-4de2-8a30-88a312be0bba.wav\n",
            "Транскрипция сохранена в: 84c7ed3f-4010-4de2-8a30-88a312be0bba.txt\n",
            "Обрабатывается файл 30/100: 373c13d2-0039-4ca1-a549-1563d2a8ef0a.wav\n",
            "Транскрипция сохранена в: 373c13d2-0039-4ca1-a549-1563d2a8ef0a.txt\n",
            "Обрабатывается файл 31/100: 3274fc24-5460-43f4-8846-b77ffd73a202.wav\n",
            "Транскрипция сохранена в: 3274fc24-5460-43f4-8846-b77ffd73a202.txt\n",
            "Обрабатывается файл 32/100: 5fdd45c8-59c9-4c90-bf81-e426cf597f40.wav\n",
            "Транскрипция сохранена в: 5fdd45c8-59c9-4c90-bf81-e426cf597f40.txt\n",
            "Обрабатывается файл 33/100: f41d0849-5116-4900-b4c5-c9e201c30e06.wav\n",
            "Транскрипция сохранена в: f41d0849-5116-4900-b4c5-c9e201c30e06.txt\n",
            "Обрабатывается файл 34/100: ce29f3d2-8c47-4466-a2b5-7bcb73b0eb02.wav\n",
            "Транскрипция сохранена в: ce29f3d2-8c47-4466-a2b5-7bcb73b0eb02.txt\n",
            "Обрабатывается файл 35/100: 3d8c8d43-f7f2-479b-a857-c90faa5e2faf.wav\n",
            "Транскрипция сохранена в: 3d8c8d43-f7f2-479b-a857-c90faa5e2faf.txt\n",
            "Обрабатывается файл 36/100: c53908cc-adb1-418b-b68b-f67094fc4afd.wav\n",
            "Транскрипция сохранена в: c53908cc-adb1-418b-b68b-f67094fc4afd.txt\n",
            "Обрабатывается файл 37/100: eebe7151-43f7-4e5f-af3d-d7a1a3ab2197.wav\n",
            "Транскрипция сохранена в: eebe7151-43f7-4e5f-af3d-d7a1a3ab2197.txt\n",
            "Обрабатывается файл 38/100: 77d390c1-45ad-414d-9843-640527a52018.wav\n",
            "Транскрипция сохранена в: 77d390c1-45ad-414d-9843-640527a52018.txt\n",
            "Обрабатывается файл 39/100: c5a115d7-015f-421c-94ce-ed9928151491.wav\n",
            "Транскрипция сохранена в: c5a115d7-015f-421c-94ce-ed9928151491.txt\n",
            "Обрабатывается файл 40/100: 29c0f7f4-9701-4e19-a4cd-874ec5397be1.wav\n",
            "Транскрипция сохранена в: 29c0f7f4-9701-4e19-a4cd-874ec5397be1.txt\n",
            "Обрабатывается файл 41/100: 3c0ebd62-2cc1-4c9c-be63-5733511a11cd.wav\n",
            "Транскрипция сохранена в: 3c0ebd62-2cc1-4c9c-be63-5733511a11cd.txt\n",
            "Обрабатывается файл 42/100: 86aaebac-a43a-4f80-a6e4-136bfb5492e3.wav\n",
            "Транскрипция сохранена в: 86aaebac-a43a-4f80-a6e4-136bfb5492e3.txt\n",
            "Обрабатывается файл 43/100: d92c0f04-21ec-4578-98ec-d05602683126.wav\n",
            "Транскрипция сохранена в: d92c0f04-21ec-4578-98ec-d05602683126.txt\n",
            "Обрабатывается файл 44/100: 1972e18d-dc62-418f-8a00-61f3235bbab9.wav\n",
            "Транскрипция сохранена в: 1972e18d-dc62-418f-8a00-61f3235bbab9.txt\n",
            "Обрабатывается файл 45/100: dc7eedda-8db3-4ea5-abcd-d8ecb9fec734.wav\n",
            "Транскрипция сохранена в: dc7eedda-8db3-4ea5-abcd-d8ecb9fec734.txt\n",
            "Обрабатывается файл 46/100: 5baa289b-4373-47ff-8203-4462e052510f.wav\n",
            "Транскрипция сохранена в: 5baa289b-4373-47ff-8203-4462e052510f.txt\n",
            "Обрабатывается файл 47/100: 6385560c-7068-45c2-9ba7-9e061249e0a4.wav\n",
            "Транскрипция сохранена в: 6385560c-7068-45c2-9ba7-9e061249e0a4.txt\n",
            "Обрабатывается файл 48/100: 4bd0ad25-e86a-4275-85b6-4d11ac96cfdc.wav\n",
            "Транскрипция сохранена в: 4bd0ad25-e86a-4275-85b6-4d11ac96cfdc.txt\n",
            "Обрабатывается файл 49/100: 0b495d2e-a15e-4ee6-8283-316fb821abf2.wav\n",
            "Транскрипция сохранена в: 0b495d2e-a15e-4ee6-8283-316fb821abf2.txt\n",
            "Обрабатывается файл 50/100: 776a335c-4817-4ed4-8a63-4b88bfaf1c2d.wav\n",
            "Транскрипция сохранена в: 776a335c-4817-4ed4-8a63-4b88bfaf1c2d.txt\n",
            "Обрабатывается файл 51/100: adaaff15-9678-41d6-abe1-84ee20c24c44.wav\n",
            "Транскрипция сохранена в: adaaff15-9678-41d6-abe1-84ee20c24c44.txt\n",
            "Обрабатывается файл 52/100: ba9e8621-7c94-46aa-93de-abb816732da7.wav\n",
            "Транскрипция сохранена в: ba9e8621-7c94-46aa-93de-abb816732da7.txt\n",
            "Обрабатывается файл 53/100: 9e07115e-bb04-49ad-bab5-c31c1ab70b27.wav\n",
            "Транскрипция сохранена в: 9e07115e-bb04-49ad-bab5-c31c1ab70b27.txt\n",
            "Обрабатывается файл 54/100: 47b9b402-e832-438d-ad85-3f7375867e4a.wav\n",
            "Транскрипция сохранена в: 47b9b402-e832-438d-ad85-3f7375867e4a.txt\n",
            "Обрабатывается файл 55/100: ed3f4cd7-801b-4d3c-a237-a9d662d04fd5.wav\n",
            "Транскрипция сохранена в: ed3f4cd7-801b-4d3c-a237-a9d662d04fd5.txt\n",
            "Обрабатывается файл 56/100: 0a450eae-9d55-4bf0-aba8-a6f2e1162706.wav\n",
            "Транскрипция сохранена в: 0a450eae-9d55-4bf0-aba8-a6f2e1162706.txt\n",
            "Обрабатывается файл 57/100: 871a6ddc-77b3-45e0-ab4d-2bdcddb78515.wav\n",
            "Транскрипция сохранена в: 871a6ddc-77b3-45e0-ab4d-2bdcddb78515.txt\n",
            "Обрабатывается файл 58/100: f3a2f832-413e-49e7-a332-f565694c7604.wav\n",
            "Транскрипция сохранена в: f3a2f832-413e-49e7-a332-f565694c7604.txt\n",
            "Обрабатывается файл 59/100: a6bab1dc-059b-4f93-a2ec-baef363ddcea.wav\n",
            "Транскрипция сохранена в: a6bab1dc-059b-4f93-a2ec-baef363ddcea.txt\n",
            "Обрабатывается файл 60/100: fcceeeb4-5bb7-460a-853c-99c3c7bd5aef.wav\n",
            "Транскрипция сохранена в: fcceeeb4-5bb7-460a-853c-99c3c7bd5aef.txt\n",
            "Обрабатывается файл 61/100: d5bd3785-733a-4a95-b3ba-4d80ece002ee.wav\n",
            "Транскрипция сохранена в: d5bd3785-733a-4a95-b3ba-4d80ece002ee.txt\n",
            "Обрабатывается файл 62/100: 59d62edf-fea9-4825-8f74-9e9927280f1e.wav\n",
            "Транскрипция сохранена в: 59d62edf-fea9-4825-8f74-9e9927280f1e.txt\n",
            "Обрабатывается файл 63/100: f72678b7-c101-402f-bf8c-825bf4d70418.wav\n",
            "Транскрипция сохранена в: f72678b7-c101-402f-bf8c-825bf4d70418.txt\n",
            "Обрабатывается файл 64/100: 1c215f06-d03e-4094-96c7-db5b3c3d1105.wav\n",
            "Транскрипция сохранена в: 1c215f06-d03e-4094-96c7-db5b3c3d1105.txt\n",
            "Обрабатывается файл 65/100: f9d9fa24-0e3c-430f-8e42-622a0fa0c6a5.wav\n",
            "Транскрипция сохранена в: f9d9fa24-0e3c-430f-8e42-622a0fa0c6a5.txt\n",
            "Обрабатывается файл 66/100: 236b63a8-8f37-444d-8340-25324620e985.wav\n",
            "Транскрипция сохранена в: 236b63a8-8f37-444d-8340-25324620e985.txt\n",
            "Обрабатывается файл 67/100: 0a1ff945-8476-4f17-a579-8780800592fd.wav\n",
            "Транскрипция сохранена в: 0a1ff945-8476-4f17-a579-8780800592fd.txt\n",
            "Обрабатывается файл 68/100: 969c8460-29a8-4c6a-ac71-bc729a6d1f3d.wav\n",
            "Транскрипция сохранена в: 969c8460-29a8-4c6a-ac71-bc729a6d1f3d.txt\n",
            "Обрабатывается файл 69/100: 4ca1580f-5414-49b8-b816-72f623733105.wav\n",
            "Транскрипция сохранена в: 4ca1580f-5414-49b8-b816-72f623733105.txt\n",
            "Обрабатывается файл 70/100: 51c8ac21-4179-4590-9c62-de34065cbaeb.wav\n",
            "Транскрипция сохранена в: 51c8ac21-4179-4590-9c62-de34065cbaeb.txt\n",
            "Обрабатывается файл 71/100: 1822f91a-1888-44fa-9104-f4d06d864010.wav\n",
            "Транскрипция сохранена в: 1822f91a-1888-44fa-9104-f4d06d864010.txt\n",
            "Обрабатывается файл 72/100: 56280403-d892-44fb-864a-81fb2943c77c.wav\n",
            "Транскрипция сохранена в: 56280403-d892-44fb-864a-81fb2943c77c.txt\n",
            "Обрабатывается файл 73/100: 09c0c412-2316-4bf4-9f92-8349067de618.wav\n",
            "Транскрипция сохранена в: 09c0c412-2316-4bf4-9f92-8349067de618.txt\n",
            "Обрабатывается файл 74/100: 2e069c1d-11ba-4a51-84b1-f182b8a2999a.wav\n",
            "Транскрипция сохранена в: 2e069c1d-11ba-4a51-84b1-f182b8a2999a.txt\n",
            "Обрабатывается файл 75/100: af0b23ef-7519-49e0-b32c-cab81f50f2f7.wav\n",
            "Транскрипция сохранена в: af0b23ef-7519-49e0-b32c-cab81f50f2f7.txt\n",
            "Обрабатывается файл 76/100: 3159d866-1c94-41ed-a274-e8ccee3fb966.wav\n",
            "Транскрипция сохранена в: 3159d866-1c94-41ed-a274-e8ccee3fb966.txt\n",
            "Обрабатывается файл 77/100: 6b061312-1923-4924-97de-21e31d6f5861.wav\n",
            "Транскрипция сохранена в: 6b061312-1923-4924-97de-21e31d6f5861.txt\n",
            "Обрабатывается файл 78/100: 4c0f8f80-99f2-4dba-b54f-1860e07af180.wav\n",
            "Транскрипция сохранена в: 4c0f8f80-99f2-4dba-b54f-1860e07af180.txt\n",
            "Обрабатывается файл 79/100: 08890a89-c3df-4e4a-b4ac-169a347791cc.wav\n",
            "Транскрипция сохранена в: 08890a89-c3df-4e4a-b4ac-169a347791cc.txt\n",
            "Обрабатывается файл 80/100: 537c7e5c-fda8-46f2-8395-4420dd34dec5.wav\n",
            "Транскрипция сохранена в: 537c7e5c-fda8-46f2-8395-4420dd34dec5.txt\n",
            "Обрабатывается файл 81/100: c4f3178c-14b2-44f8-b36e-f34a47520e10.wav\n",
            "Транскрипция сохранена в: c4f3178c-14b2-44f8-b36e-f34a47520e10.txt\n",
            "Обрабатывается файл 82/100: d69a744d-0510-4a61-9705-95901544390f.wav\n",
            "Транскрипция сохранена в: d69a744d-0510-4a61-9705-95901544390f.txt\n",
            "Обрабатывается файл 83/100: 1f418f48-7d16-41c4-b1ec-a06ec58aacfd.wav\n",
            "Транскрипция сохранена в: 1f418f48-7d16-41c4-b1ec-a06ec58aacfd.txt\n",
            "Обрабатывается файл 84/100: 2144ca43-13e4-49ad-9c8e-5a5ecf8599d9.wav\n",
            "Транскрипция сохранена в: 2144ca43-13e4-49ad-9c8e-5a5ecf8599d9.txt\n",
            "Обрабатывается файл 85/100: 66d66f3c-0ead-4714-95c7-6e6750fb8539.wav\n",
            "Транскрипция сохранена в: 66d66f3c-0ead-4714-95c7-6e6750fb8539.txt\n",
            "Обрабатывается файл 86/100: d203c652-509b-4c41-bdaf-f374e1c3c87e.wav\n",
            "Транскрипция сохранена в: d203c652-509b-4c41-bdaf-f374e1c3c87e.txt\n",
            "Обрабатывается файл 87/100: 2b9c598f-c08f-43eb-ac28-72cf962a9a05.wav\n",
            "Транскрипция сохранена в: 2b9c598f-c08f-43eb-ac28-72cf962a9a05.txt\n",
            "Обрабатывается файл 88/100: 286bd6c3-a984-4eb6-8955-b27643b1cfd7.wav\n",
            "Транскрипция сохранена в: 286bd6c3-a984-4eb6-8955-b27643b1cfd7.txt\n",
            "Обрабатывается файл 89/100: e3c3340d-2ac2-4c10-be96-8ee64b425d7b.wav\n",
            "Транскрипция сохранена в: e3c3340d-2ac2-4c10-be96-8ee64b425d7b.txt\n",
            "Обрабатывается файл 90/100: eb158b7a-c882-495f-955c-a20b23c3b4cb.wav\n",
            "Транскрипция сохранена в: eb158b7a-c882-495f-955c-a20b23c3b4cb.txt\n",
            "Обрабатывается файл 91/100: 4201a552-ca79-4a67-9b2a-126d75d0a3be.wav\n",
            "Транскрипция сохранена в: 4201a552-ca79-4a67-9b2a-126d75d0a3be.txt\n",
            "Обрабатывается файл 92/100: 2927bb1d-9c94-470d-9763-e68dac6183b8.wav\n",
            "Транскрипция сохранена в: 2927bb1d-9c94-470d-9763-e68dac6183b8.txt\n",
            "Обрабатывается файл 93/100: 533e00e4-0e05-4319-b82e-411ab57b8802.wav\n",
            "Транскрипция сохранена в: 533e00e4-0e05-4319-b82e-411ab57b8802.txt\n",
            "Обрабатывается файл 94/100: 703e7d9c-b170-4762-b5d3-c4fa8e4be0e8.wav\n",
            "Транскрипция сохранена в: 703e7d9c-b170-4762-b5d3-c4fa8e4be0e8.txt\n",
            "Обрабатывается файл 95/100: 2a6d78d6-5b79-4ec1-bd9b-29b59c1960c1.wav\n",
            "Транскрипция сохранена в: 2a6d78d6-5b79-4ec1-bd9b-29b59c1960c1.txt\n",
            "Обрабатывается файл 96/100: 45161c4c-3f2c-4638-940e-a69404074ebb.wav\n",
            "Транскрипция сохранена в: 45161c4c-3f2c-4638-940e-a69404074ebb.txt\n",
            "Обрабатывается файл 97/100: 46a1b365-6ee9-43d6-8a36-42a37c40dbc0.wav\n",
            "Транскрипция сохранена в: 46a1b365-6ee9-43d6-8a36-42a37c40dbc0.txt\n",
            "Обрабатывается файл 98/100: c2338438-18b4-456a-b51f-d661f7473eac.wav\n",
            "Транскрипция сохранена в: c2338438-18b4-456a-b51f-d661f7473eac.txt\n",
            "Обрабатывается файл 99/100: 4711cdac-8181-4f3c-8889-77cf408f3ff2.wav\n",
            "Транскрипция сохранена в: 4711cdac-8181-4f3c-8889-77cf408f3ff2.txt\n",
            "Обрабатывается файл 100/100: ab7118eb-d4fc-419e-bf99-b01b3886d09a.wav\n",
            "Транскрипция сохранена в: ab7118eb-d4fc-419e-bf99-b01b3886d09a.txt\n",
            "Все файлы обработаны!\n"
          ]
        }
      ],
      "source": [
        "# audio_dir = Path(\"data_russian_speech\")\n",
        "wav_paths = list(DATA_ROOT.rglob(\"*.wav\"))\n",
        "\n",
        "print(f\"Найдено {len(wav_paths)} аудиофайлов для обработки\")\n",
        "\n",
        "for i, p in enumerate(wav_paths):\n",
        "    print(f\"Обрабатывается файл {i+1}/{len(wav_paths)}: {p.name}\")\n",
        "    \n",
        "    wav, sr = load_audio(str(p))\n",
        "\n",
        "    inputs = processor(wav, sampling_rate=sr, return_tensors=\"pt\")\n",
        "    input_features = inputs.input_features.to(model.device)\n",
        "    \n",
        "    # Создаем attention_mask если его нет\n",
        "    if hasattr(inputs, 'attention_mask') and inputs.attention_mask is not None:\n",
        "        attention_mask = inputs.attention_mask.to(model.device)\n",
        "    else:\n",
        "        # Создаем маску внимания для всех элементов (все единицы)\n",
        "        attention_mask = torch.ones(input_features.shape[:2], dtype=torch.long, device=model.device)\n",
        "\n",
        "    # Генерация выходных токенов\n",
        "    predicted_ids = model.generate(\n",
        "        input_features, \n",
        "        attention_mask=attention_mask,\n",
        "        language=\"ru\", \n",
        "        task=\"transcribe\"\n",
        "    )\n",
        "\n",
        "    # Декодирование в текст\n",
        "    transcription = processor.batch_decode(predicted_ids, skip_special_tokens=True)[0]\n",
        "    \n",
        "    # Сохраняем транскрипцию в файл\n",
        "    txt_filename = p.stem + \".txt\"  # p.stem дает имя файла без пути и без расширения\n",
        "    txt_path = DATA_ROOT / txt_filename\n",
        "    \n",
        "    with open(txt_path, 'w', encoding='utf-8') as f:\n",
        "        f.write(transcription)\n",
        "    \n",
        "    print(f\"Транскрипция сохранена в: {txt_filename}\")\n",
        "\n",
        "print(\"Все файлы обработаны!\")\n",
        "\n"
      ]
    },
    {
      "cell_type": "markdown",
      "metadata": {},
      "source": [
        "### Отображение 10 рандомных транскрипций"
      ]
    },
    {
      "cell_type": "code",
      "execution_count": 16,
      "metadata": {},
      "outputs": [
        {
          "name": "stdout",
          "output_type": "stream",
          "text": [
            "10 случайных транскрипций:\n",
            "==================================================\n",
            "Файл: 2e069c1d-11ba-4a51-84b1-f182b8a2999a.txt\n",
            "Транскрипция: Олеша Юрий Карлович\n",
            "----------------------------------------\n",
            "Файл: 2b9c598f-c08f-43eb-ac28-72cf962a9a05.txt\n",
            "Транскрипция: Ирония судьбы или с лёгким паром\n",
            "----------------------------------------\n",
            "Файл: ab7118eb-d4fc-419e-bf99-b01b3886d09a.txt\n",
            "Транскрипция: Крошенинников Степан Петрович\n",
            "----------------------------------------\n",
            "Файл: 4bd0ad25-e86a-4275-85b6-4d11ac96cfdc.txt\n",
            "Транскрипция: Мой отец и мой сын\n",
            "----------------------------------------\n",
            "Файл: bbc64f47-2cfe-4cce-944d-2022fef45357.txt\n",
            "Транскрипция: 3. Идиота\n",
            "----------------------------------------\n",
            "Файл: 0911b405-a657-46c2-8ab7-b8d3d0128510.txt\n",
            "Транскрипция: Гайя не кумжи\n",
            "----------------------------------------\n",
            "Файл: d5bd3785-733a-4a95-b3ba-4d80ece002ee.txt\n",
            "Транскрипция: Однажды в Америке\n",
            "----------------------------------------\n",
            "Файл: ca50a690-f1af-4a75-84e7-a8b121eff5e7.txt\n",
            "Транскрипция: Джон Гудман\n",
            "----------------------------------------\n",
            "Файл: ed3f4cd7-801b-4d3c-a237-a9d662d04fd5.txt\n",
            "Транскрипция: Feel callings.\n",
            "----------------------------------------\n",
            "Файл: b85b751d-b0b9-4b74-a62f-53b26a0d95ca.txt\n",
            "Транскрипция: Ханс Хартун\n",
            "----------------------------------------\n"
          ]
        }
      ],
      "source": [
        "import random\n",
        "\n",
        "# фильтруем файлы от последующих шагов\n",
        "txt_files = [\n",
        "    f for f in DATA_ROOT.rglob(\"*.txt\") if not f.name.endswith(\"_t5.txt\") and not f.name.endswith(\"_t5_ft.txt\")\n",
        "]\n",
        "sample_txt_files = random.sample(txt_files, k=min(10, len(txt_files)))\n",
        "\n",
        "print(\"10 случайных транскрипций:\")\n",
        "print(\"=\" * 50)\n",
        "\n",
        "for txt_file in sample_txt_files:\n",
        "    with open(txt_file, \"r\", encoding=\"utf-8\") as f:\n",
        "        transcription = f.read().strip()\n",
        "\n",
        "    print(f\"Файл: {txt_file.name}\")\n",
        "    print(f\"Транскрипция: {transcription}\")\n",
        "    print(\"-\" * 40)\n"
      ]
    },
    {
      "cell_type": "markdown",
      "metadata": {
        "id": "6rrbQapLh7w5"
      },
      "source": [
        "## Шаг 2 (1 балл)\n",
        "\n",
        "Текст распознается с ошибками.\n",
        "Попробуйте исправить ошибки с помощью готовой (предобученной) модели spell correction.\n",
        "\n",
        "Выведите на экран 10 текстов с предыдущего шага и их исправления с помощью модели https://huggingface.co/UrukHan/t5-russian-spell."
      ]
    },
    {
      "cell_type": "code",
      "execution_count": 17,
      "metadata": {
        "id": "6EJIcfzWL7Ox"
      },
      "outputs": [
        {
          "data": {
            "text/plain": [
              "T5ForConditionalGeneration(\n",
              "  (shared): Embedding(32128, 768)\n",
              "  (encoder): T5Stack(\n",
              "    (embed_tokens): Embedding(32128, 768)\n",
              "    (block): ModuleList(\n",
              "      (0): T5Block(\n",
              "        (layer): ModuleList(\n",
              "          (0): T5LayerSelfAttention(\n",
              "            (SelfAttention): T5Attention(\n",
              "              (q): Linear(in_features=768, out_features=768, bias=False)\n",
              "              (k): Linear(in_features=768, out_features=768, bias=False)\n",
              "              (v): Linear(in_features=768, out_features=768, bias=False)\n",
              "              (o): Linear(in_features=768, out_features=768, bias=False)\n",
              "              (relative_attention_bias): Embedding(32, 12)\n",
              "            )\n",
              "            (layer_norm): T5LayerNorm()\n",
              "            (dropout): Dropout(p=0.1, inplace=False)\n",
              "          )\n",
              "          (1): T5LayerFF(\n",
              "            (DenseReluDense): T5DenseActDense(\n",
              "              (wi): Linear(in_features=768, out_features=3072, bias=False)\n",
              "              (wo): Linear(in_features=3072, out_features=768, bias=False)\n",
              "              (dropout): Dropout(p=0.1, inplace=False)\n",
              "              (act): ReLU()\n",
              "            )\n",
              "            (layer_norm): T5LayerNorm()\n",
              "            (dropout): Dropout(p=0.1, inplace=False)\n",
              "          )\n",
              "        )\n",
              "      )\n",
              "      (1-11): 11 x T5Block(\n",
              "        (layer): ModuleList(\n",
              "          (0): T5LayerSelfAttention(\n",
              "            (SelfAttention): T5Attention(\n",
              "              (q): Linear(in_features=768, out_features=768, bias=False)\n",
              "              (k): Linear(in_features=768, out_features=768, bias=False)\n",
              "              (v): Linear(in_features=768, out_features=768, bias=False)\n",
              "              (o): Linear(in_features=768, out_features=768, bias=False)\n",
              "            )\n",
              "            (layer_norm): T5LayerNorm()\n",
              "            (dropout): Dropout(p=0.1, inplace=False)\n",
              "          )\n",
              "          (1): T5LayerFF(\n",
              "            (DenseReluDense): T5DenseActDense(\n",
              "              (wi): Linear(in_features=768, out_features=3072, bias=False)\n",
              "              (wo): Linear(in_features=3072, out_features=768, bias=False)\n",
              "              (dropout): Dropout(p=0.1, inplace=False)\n",
              "              (act): ReLU()\n",
              "            )\n",
              "            (layer_norm): T5LayerNorm()\n",
              "            (dropout): Dropout(p=0.1, inplace=False)\n",
              "          )\n",
              "        )\n",
              "      )\n",
              "    )\n",
              "    (final_layer_norm): T5LayerNorm()\n",
              "    (dropout): Dropout(p=0.1, inplace=False)\n",
              "  )\n",
              "  (decoder): T5Stack(\n",
              "    (embed_tokens): Embedding(32128, 768)\n",
              "    (block): ModuleList(\n",
              "      (0): T5Block(\n",
              "        (layer): ModuleList(\n",
              "          (0): T5LayerSelfAttention(\n",
              "            (SelfAttention): T5Attention(\n",
              "              (q): Linear(in_features=768, out_features=768, bias=False)\n",
              "              (k): Linear(in_features=768, out_features=768, bias=False)\n",
              "              (v): Linear(in_features=768, out_features=768, bias=False)\n",
              "              (o): Linear(in_features=768, out_features=768, bias=False)\n",
              "              (relative_attention_bias): Embedding(32, 12)\n",
              "            )\n",
              "            (layer_norm): T5LayerNorm()\n",
              "            (dropout): Dropout(p=0.1, inplace=False)\n",
              "          )\n",
              "          (1): T5LayerCrossAttention(\n",
              "            (EncDecAttention): T5Attention(\n",
              "              (q): Linear(in_features=768, out_features=768, bias=False)\n",
              "              (k): Linear(in_features=768, out_features=768, bias=False)\n",
              "              (v): Linear(in_features=768, out_features=768, bias=False)\n",
              "              (o): Linear(in_features=768, out_features=768, bias=False)\n",
              "            )\n",
              "            (layer_norm): T5LayerNorm()\n",
              "            (dropout): Dropout(p=0.1, inplace=False)\n",
              "          )\n",
              "          (2): T5LayerFF(\n",
              "            (DenseReluDense): T5DenseActDense(\n",
              "              (wi): Linear(in_features=768, out_features=3072, bias=False)\n",
              "              (wo): Linear(in_features=3072, out_features=768, bias=False)\n",
              "              (dropout): Dropout(p=0.1, inplace=False)\n",
              "              (act): ReLU()\n",
              "            )\n",
              "            (layer_norm): T5LayerNorm()\n",
              "            (dropout): Dropout(p=0.1, inplace=False)\n",
              "          )\n",
              "        )\n",
              "      )\n",
              "      (1-11): 11 x T5Block(\n",
              "        (layer): ModuleList(\n",
              "          (0): T5LayerSelfAttention(\n",
              "            (SelfAttention): T5Attention(\n",
              "              (q): Linear(in_features=768, out_features=768, bias=False)\n",
              "              (k): Linear(in_features=768, out_features=768, bias=False)\n",
              "              (v): Linear(in_features=768, out_features=768, bias=False)\n",
              "              (o): Linear(in_features=768, out_features=768, bias=False)\n",
              "            )\n",
              "            (layer_norm): T5LayerNorm()\n",
              "            (dropout): Dropout(p=0.1, inplace=False)\n",
              "          )\n",
              "          (1): T5LayerCrossAttention(\n",
              "            (EncDecAttention): T5Attention(\n",
              "              (q): Linear(in_features=768, out_features=768, bias=False)\n",
              "              (k): Linear(in_features=768, out_features=768, bias=False)\n",
              "              (v): Linear(in_features=768, out_features=768, bias=False)\n",
              "              (o): Linear(in_features=768, out_features=768, bias=False)\n",
              "            )\n",
              "            (layer_norm): T5LayerNorm()\n",
              "            (dropout): Dropout(p=0.1, inplace=False)\n",
              "          )\n",
              "          (2): T5LayerFF(\n",
              "            (DenseReluDense): T5DenseActDense(\n",
              "              (wi): Linear(in_features=768, out_features=3072, bias=False)\n",
              "              (wo): Linear(in_features=3072, out_features=768, bias=False)\n",
              "              (dropout): Dropout(p=0.1, inplace=False)\n",
              "              (act): ReLU()\n",
              "            )\n",
              "            (layer_norm): T5LayerNorm()\n",
              "            (dropout): Dropout(p=0.1, inplace=False)\n",
              "          )\n",
              "        )\n",
              "      )\n",
              "    )\n",
              "    (final_layer_norm): T5LayerNorm()\n",
              "    (dropout): Dropout(p=0.1, inplace=False)\n",
              "  )\n",
              "  (lm_head): Linear(in_features=768, out_features=32128, bias=False)\n",
              ")"
            ]
          },
          "execution_count": 17,
          "metadata": {},
          "output_type": "execute_result"
        }
      ],
      "source": [
        "# ваш код здесь\n",
        "from transformers import AutoTokenizer, AutoModelForSeq2SeqLM\n",
        "\n",
        "t5_tokenizer = AutoTokenizer.from_pretrained(\"UrukHan/t5-russian-spell\")\n",
        "t5_model = AutoModelForSeq2SeqLM.from_pretrained(\"UrukHan/t5-russian-spell\")\n",
        "t5_model.to(device)"
      ]
    },
    {
      "cell_type": "code",
      "execution_count": 18,
      "metadata": {},
      "outputs": [
        {
          "name": "stdout",
          "output_type": "stream",
          "text": [
            "Пол Маккартни\n"
          ]
        }
      ],
      "source": [
        "# тестовый\n",
        "input_ids = t5_tokenizer(\n",
        "    \"Полмакартни\", return_tensors=\"pt\"\n",
        ").input_ids.to(device)  \n",
        "outputs = t5_model.generate(input_ids)\n",
        "print(t5_tokenizer.decode(outputs[0], skip_special_tokens=True))"
      ]
    },
    {
      "cell_type": "code",
      "execution_count": 19,
      "metadata": {},
      "outputs": [
        {
          "data": {
            "application/vnd.jupyter.widget-view+json": {
              "model_id": "600c19fc60014ecda2c2c062242dcd03",
              "version_major": 2,
              "version_minor": 0
            },
            "text/plain": [
              "  0%|          | 0/100 [00:00<?, ?it/s]"
            ]
          },
          "metadata": {},
          "output_type": "display_data"
        }
      ],
      "source": [
        "# audio_dir = Path(\"data_russian_speech\")\n",
        "txt_files = [\n",
        "    f for f in DATA_ROOT.rglob('*.txt')\n",
        "    if not f.name.endswith('_t5.txt') and not f.name.endswith('_t5_ft.txt')\n",
        "]\n",
        "\n",
        "for txt_file in tqdm(txt_files):\n",
        "    with open(txt_file, 'r', encoding='utf-8') as f:\n",
        "        transcription = f.read().strip()\n",
        "        input_ids = t5_tokenizer(transcription, return_tensors=\"pt\").input_ids.to(device)\n",
        "        outputs = t5_model.generate(input_ids)\n",
        "        corrected_text = t5_tokenizer.decode(outputs[0], skip_special_tokens=True)\n",
        "        \n",
        "        # save to file\n",
        "        new_filename = txt_file.stem + \"_t5.txt\" \n",
        "        new_path = DATA_ROOT / new_filename\n",
        "        with open(new_path, 'w', encoding='utf-8') as f:\n",
        "            f.write(corrected_text)\n",
        "    \n"
      ]
    },
    {
      "cell_type": "code",
      "execution_count": 20,
      "metadata": {},
      "outputs": [
        {
          "name": "stdout",
          "output_type": "stream",
          "text": [
            "10 случайных \"скорректированных\" транскрипций:\n",
            "==================================================\n",
            "Файл: 00760e69-35b8-4c65-84f6-c1d0e82907c2_t5.txt\n",
            "Транскрипция: Помни, Помни.\n",
            "----------------------------------------\n",
            "Файл: d6b51378-81b8-4b1f-8f80-0beef4a10592_t5.txt\n",
            "Транскрипция: Otis Redding\n",
            "----------------------------------------\n",
            "Файл: 6b061312-1923-4924-97de-21e31d6f5861_t5.txt\n",
            "Транскрипция: Синявский Андрей Донатович\n",
            "----------------------------------------\n",
            "Файл: 373c13d2-0039-4ca1-a549-1563d2a8ef0a_t5.txt\n",
            "Транскрипция: Крестный отец 2\n",
            "----------------------------------------\n",
            "Файл: c53908cc-adb1-418b-b68b-f67094fc4afd_t5.txt\n",
            "Транскрипция: Брайан Брайан Адамс\n",
            "----------------------------------------\n",
            "Файл: 86cae6ee-fe19-43b7-b6c7-cd30736167b1_t5.txt\n",
            "Транскрипция: Жан-Поль-Сартер\n",
            "----------------------------------------\n",
            "Файл: 51c8ac21-4179-4590-9c62-de34065cbaeb_t5.txt\n",
            "Транскрипция: Бил на и.\n",
            "----------------------------------------\n",
            "Файл: 47b9b402-e832-438d-ad85-3f7375867e4a_t5.txt\n",
            "Транскрипция: КОМУ ПОРТЕРТЕР\n",
            "----------------------------------------\n",
            "Файл: 4bd0ad25-e86a-4275-85b6-4d11ac96cfdc_t5.txt\n",
            "Транскрипция: Мой отец и мой сын.\n",
            "----------------------------------------\n",
            "Файл: 286bd6c3-a984-4eb6-8955-b27643b1cfd7_t5.txt\n",
            "Транскрипция: Ходосевич Владислав Филицанович\n",
            "----------------------------------------\n"
          ]
        }
      ],
      "source": [
        "import random\n",
        "\n",
        "txt_files = list(DATA_ROOT.rglob(\"*_t5.txt\"))\n",
        "sample_txt_files = random.sample(txt_files, k=min(10, len(txt_files)))\n",
        "\n",
        "print('10 случайных \"скорректированных\" транскрипций:')\n",
        "print(\"=\" * 50)\n",
        "\n",
        "for txt_file in sample_txt_files:\n",
        "    with open(txt_file, 'r', encoding='utf-8') as f:\n",
        "        transcription = f.read().strip()\n",
        "    \n",
        "    print(f\"Файл: {txt_file.name}\")\n",
        "    print(f\"Транскрипция: {transcription}\")\n",
        "    print(\"-\" * 40)"
      ]
    },
    {
      "cell_type": "markdown",
      "metadata": {
        "id": "xpXtmy6GiDk3"
      },
      "source": [
        "## Шаг 3 (2 балла)\n",
        "\n",
        "Соберите данные для дообучения модели выше. Для дообучения мы предлагаем вам использовать бесплатный api Groq: https://console.groq.com/docs/quickstart\n",
        "\n",
        "Разберитесь с тем как пользоваться api (мы немного поможем вам с этим кодом ниже) и с его помощью соберите датасет (можно в несколько запросов).\n",
        "\n",
        "- **0.5 балла** ставится за сбор датасета размером >1000 строк и сохранение в локальный файл/файлы\n",
        "\n",
        "- **еще 0.5 балла** ставится за [создание huggingface dataset](https://huggingface.co/docs/datasets/create_dataset) (через использование библиотек datasets и huggingface) и [сохранение собранного датасета напрямую в HuggingFace](https://huggingface.co/docs/datasets/upload_dataset)\n",
        "\n",
        "- **еще 1 балл** ставится за сбор датасета размером >1000 строк, на котором путем дообучения получится увеличить качество исправления опечаток в поставленной задаче (см. шаг 6) по сравнению с качеством прогноза той же, но предобученной модели\n",
        "\n",
        "P.S. Если у Вас нет VPN, то можете воспользоваться другой LLM на Ваш выбор (можно, например, этим https://ollama.com/)."
      ]
    },
    {
      "cell_type": "markdown",
      "metadata": {},
      "source": [
        "### Ключи доступа к модели"
      ]
    },
    {
      "cell_type": "markdown",
      "metadata": {},
      "source": [
        "Следующая ячейка инициализирует ключи доступа к OpenRouter и HuggingFace.  \n",
        "Ключи считываются либо из секретов Google Collab (если достпен), либо из локального файла `.env`"
      ]
    },
    {
      "cell_type": "markdown",
      "metadata": {},
      "source": [
        "### Проверка подключения к OpenRouter"
      ]
    },
    {
      "cell_type": "code",
      "execution_count": 21,
      "metadata": {},
      "outputs": [
        {
          "name": "stdout",
          "output_type": "stream",
          "text": [
            "Привет! Конечно, поработаем. 😊\n",
            "\n",
            "Что у нас на повестке дня? Нужна помощь с текстом, идеями, расчетами или чем-то ещё? Готов помочь!\n"
          ]
        }
      ],
      "source": [
        "from openai import OpenAI\n",
        "\n",
        "client = OpenAI(\n",
        "  base_url=\"https://openrouter.ai/api/v1\",\n",
        "  api_key=API_KEY\n",
        ")\n",
        "\n",
        "completion = client.chat.completions.create(\n",
        "  # extra_headers={\n",
        "  #   \"HTTP-Referer\": \"<YOUR_SITE_URL>\", # Optional. Site URL for rankings on openrouter.ai.\n",
        "  #   \"X-Title\": \"<YOUR_SITE_NAME>\", # Optional. Site title for rankings on openrouter.ai.\n",
        "  # },\n",
        "  model=MODEL_NAME,\n",
        "  messages=[\n",
        "    {\n",
        "      \"role\": \"user\",\n",
        "      \"content\": \"Привет! Поработаем сегодня?\"\n",
        "    }\n",
        "  ]\n",
        ")\n",
        "\n",
        "print(completion.choices[0].message.content)\n"
      ]
    },
    {
      "cell_type": "markdown",
      "metadata": {},
      "source": [
        "### Вспомогательные функции"
      ]
    },
    {
      "cell_type": "code",
      "execution_count": 22,
      "metadata": {
        "id": "Fyp_fo1dcEWm"
      },
      "outputs": [],
      "source": [
        "# Функйция генерации пар (ошибка -> исправление) для обучения модели\n",
        "def generate_spell_correction_pairs(num_pairs=50):\n",
        "    \"\"\"\n",
        "    Генерирует пары (ошибка -> исправление) для обучения модели spell correction\n",
        "    \"\"\"\n",
        "    prompt = \"\"\"\n",
        "Ты эксперт по русскому языку. Твоя задача - создать пары текстов для обучения модели исправления опечаток.\n",
        "\n",
        "Создай {num_pairs} пар в формате:\n",
        "ОШИБКА: [текст с опечатками]\n",
        "ИСПРАВЛЕНИЕ: [исправленный текст]\n",
        "\n",
        "Правила:\n",
        "1. Ошибки должны быть типичными для speech-to-text систем (фонетические ошибки, пропуски букв, замены)\n",
        "2. Используй разнообразные типы ошибок: пропуски букв, замены, перестановки, лишние буквы\n",
        "3. Включай имена собственные, географические названия, научные термины\n",
        "4. Длина текстов от 1 до 10 слов\n",
        "5. Ошибки должны быть реалистичными для русской речи\n",
        "6. Результаты запиши в виде списка без нумерации\n",
        "\n",
        "Примеры:\n",
        "ОШИБКА: Полмакартни\n",
        "ИСПРАВЛЕНИЕ: Пол Маккартни\n",
        "\n",
        "ОШИБКА: Ледниковый периуд\n",
        "ИСПРАВЛЕНИЕ: Ледниковый период\n",
        "\n",
        "ОШИБКА: Новый кинотеатр пародизо\n",
        "ИСПРАВЛЕНИЕ: Новый кинотеатр Парадизо\n",
        "\n",
        "Создай {num_pairs} таких пар:\n",
        "\"\"\".format(num_pairs=num_pairs)\n",
        "    \n",
        "    try:\n",
        "        response = client.chat.completions.create(\n",
        "            messages=[{\"role\": \"user\", \"content\": prompt}],\n",
        "            model=MODEL_NAME,\n",
        "            temperature=0.8,\n",
        "            max_tokens=4000\n",
        "        )\n",
        "        return response.choices[0].message.content\n",
        "    except Exception as e:\n",
        "        print(f\"Ошибка при генерации: {e}\")\n",
        "        return None\n",
        "\n",
        "def parse_generated_pairs(text):\n",
        "    \"\"\"\n",
        "    Парсит сгенерированный текст и извлекает пары (ошибка, исправление)\n",
        "    \"\"\"\n",
        "    pairs = []\n",
        "    lines = text.strip().split('\\n')\n",
        "    \n",
        "    current_error = None\n",
        "    current_correction = None\n",
        "    \n",
        "    for line in lines:\n",
        "        line = line.strip()\n",
        "        if line.startswith('ОШИБКА:'):\n",
        "            current_error = line.replace('ОШИБКА:', '').strip()\n",
        "        elif line.startswith('ИСПРАВЛЕНИЕ:'):\n",
        "            current_correction = line.replace('ИСПРАВЛЕНИЕ:', '').strip()\n",
        "            if current_error and current_correction and current_error != current_correction:\n",
        "                pairs.append((current_error, current_correction))\n",
        "                current_error = None\n",
        "                current_correction = None\n",
        "    \n",
        "    return pairs\n"
      ]
    },
    {
      "cell_type": "markdown",
      "metadata": {},
      "source": [
        "### Генерируем пары"
      ]
    },
    {
      "cell_type": "code",
      "execution_count": 23,
      "metadata": {},
      "outputs": [
        {
          "name": "stdout",
          "output_type": "stream",
          "text": [
            "Генерируем 30 пар в 4 батчах...\n",
            "Батч 1/4\n",
            "Получено 5 пар в этом батче. Всего: 5\n",
            "Батч 2/4\n",
            "Получено 6 пар в этом батче. Всего: 11\n",
            "Батч 3/4\n",
            "Получено 7 пар в этом батче. Всего: 18\n",
            "Батч 4/4\n",
            "Получено 8 пар в этом батче. Всего: 26\n",
            "Итого собрано 26 пар\n"
          ]
        }
      ],
      "source": [
        "import time\n",
        "# Генерируем данные батчами, чтобы не превысить лимиты\n",
        "# Результаты сохраняются в DATA_ROOT/spell_correction_dataset_*.csv,\n",
        "# чтобы не терять данные от прошлых запусков\n",
        "all_pairs = []\n",
        "batch_size = 10\n",
        "total_pairs_needed = 30  # Больше 1000 для надежности\n",
        "num_batches = (total_pairs_needed // batch_size) + 1\n",
        "\n",
        "print(f\"Генерируем {total_pairs_needed} пар в {num_batches} батчах...\")\n",
        "\n",
        "for batch in range(num_batches):\n",
        "    print(f\"Батч {batch + 1}/{num_batches}\")\n",
        "    \n",
        "    generated_text = generate_spell_correction_pairs(batch_size)\n",
        "    if generated_text:\n",
        "        pairs = parse_generated_pairs(generated_text)\n",
        "        all_pairs.extend(pairs)\n",
        "        print(f\"Получено {len(pairs)} пар в этом батче. Всего: {len(all_pairs)}\")\n",
        "        \n",
        "        # Небольшая пауза между запросами\n",
        "        time.sleep(2)\n",
        "    else:\n",
        "        print(\"Ошибка в генерации, пропускаем батч\")\n",
        "    \n",
        "    # Останавливаемся, если набрали достаточно пар\n",
        "    if len(all_pairs) >= total_pairs_needed:\n",
        "        break\n",
        "\n",
        "print(f\"Итого собрано {len(all_pairs)} пар\")\n"
      ]
    },
    {
      "cell_type": "code",
      "execution_count": 24,
      "metadata": {
        "id": "XlLM-HIXiNbJ"
      },
      "outputs": [
        {
          "data": {
            "text/plain": [
              "[('Поеду на метре до работы', 'Поеду на метро до работы'),\n",
              " ('Ресторан на Наберижной', 'Ресторан на Набережной'),\n",
              " ('Принцип неопредленности Гейзенберга',\n",
              "  'Принцип неопределённости Гейзенберга'),\n",
              " ('Где находится Казанский вакзал', 'Где находится Казанский вокзал'),\n",
              " ('Привет как дели', 'Привет как дела'),\n",
              " ('Шереметьевов аэропорт', 'Шереметьевo аэропорт'),\n",
              " ('Сколково иновационный центр', 'Сколково инновационный центр'),\n",
              " ('Озеро Байкал глубока', 'Озеро Байкал глубоко'),\n",
              " ('Эйнштен теория относительности', 'Эйнштейн теория относительности'),\n",
              " ('Фотосинтез это процэсс', 'Фотосинтез это процесс')]"
            ]
          },
          "execution_count": 24,
          "metadata": {},
          "output_type": "execute_result"
        }
      ],
      "source": [
        "# Пример того, что собрано в этом запуске\n",
        "random.sample(all_pairs, k=min(10, len(all_pairs)))"
      ]
    },
    {
      "cell_type": "code",
      "execution_count": 25,
      "metadata": {},
      "outputs": [
        {
          "name": "stdout",
          "output_type": "stream",
          "text": [
            "После удаления дубликатов: 26 пар\n",
            "Датасет сохранен в data_russian_speech/spell_correction_dataset_7.csv\n",
            "\n",
            "Примеры из датасета:\n",
            "                            input                           target\n",
            "0           Шереметьевов аэропорт             Шереметьевo аэропорт\n",
            "1               По улице Тверская                По улице Тверской\n",
            "2       Электромагнитная индукцыя        Электромагнитная индукция\n",
            "3         Собор Василия Блаженова         Собор Василия Блаженного\n",
            "4            Озеро Байкал глубока             Озеро Байкал глубоко\n",
            "5              В Санкт Питербурге               В Санкт-Петербурге\n",
            "6          Фотосинтез это процэсс           Фотосинтез это процесс\n",
            "7         Купил билеты на самолет          Купил билеты на самолёт\n",
            "8  Эйнштен теория относительности  Эйнштейн теория относительности\n",
            "9          Ресторан на Наберижной           Ресторан на Набережной\n",
            "\n",
            "Статистика датасета:\n",
            "Общее количество пар: 26\n",
            "Средняя длина input: 23.3 символов\n",
            "Средняя длина target: 23.7 символов\n"
          ]
        }
      ],
      "source": [
        "# Сохранение собранного датасета в локальный файл\n",
        "%load_ext cudf.pandas\n",
        "import pandas as pd\n",
        "\n",
        "df = pd.DataFrame(all_pairs, columns=['input', 'target'])\n",
        "\n",
        "# Удаляем дубликаты\n",
        "df = df.drop_duplicates()\n",
        "print(f\"После удаления дубликатов: {len(df)} пар\")\n",
        "\n",
        "# Сохраняем в CSV с автоинкрементом номера файла\n",
        "base_filename = \"spell_correction_dataset\"\n",
        "counter = 1\n",
        "csv_path = DATA_ROOT / f\"{base_filename}_{counter}.csv\"\n",
        "\n",
        "while csv_path.exists():\n",
        "    counter += 1\n",
        "    csv_path = DATA_ROOT / f\"{base_filename}_{counter}.csv\"\n",
        "\n",
        "df.to_csv(csv_path, index=False, encoding='utf-8')\n",
        "print(f\"Датасет сохранен в {csv_path}\")\n",
        "\n",
        "# Показываем примеры\n",
        "print(\"\\nПримеры из датасета:\")\n",
        "print(df.head(10))\n",
        "print(\"\\nСтатистика датасета:\")\n",
        "print(f\"Общее количество пар: {len(df)}\")\n",
        "print(f\"Средняя длина input: {df['input'].str.len().mean():.1f} символов\")\n",
        "print(f\"Средняя длина target: {df['target'].str.len().mean():.1f} символов\")"
      ]
    },
    {
      "cell_type": "markdown",
      "metadata": {},
      "source": [
        "### Сохраняем/обновляем датасет на HuggingFace\n",
        "Уже 1233 строк (пар)  \n",
        "https://huggingface.co/datasets/psaw77/russian-spell-correction-dataset\n"
      ]
    },
    {
      "cell_type": "code",
      "execution_count": 26,
      "metadata": {},
      "outputs": [],
      "source": [
        "# Создание HuggingFace dataset и загрузка в HuggingFace Hub\n",
        "from datasets import Dataset, load_dataset\n",
        "from huggingface_hub import login"
      ]
    },
    {
      "cell_type": "markdown",
      "metadata": {},
      "source": [
        "По непонятной причине обращение к HuggingFace иногда подвисает.  \n",
        "Если следующий код выполняется дольше нескольких секунд, то прервать и перезапустить (помогает)."
      ]
    },
    {
      "cell_type": "code",
      "execution_count": null,
      "metadata": {},
      "outputs": [
        {
          "name": "stdout",
          "output_type": "stream",
          "text": [
            "Попытка загрузки существующего датасета...\n",
            "Найден существующий датасет с 1215 записями\n",
            "До удаления дубликатов: 1241 записей\n",
            "После удаления дубликатов: 1233 записей\n"
          ]
        },
        {
          "data": {
            "application/vnd.jupyter.widget-view+json": {
              "model_id": "600e1f65a4344b6c9cc265a8367f9e68",
              "version_major": 2,
              "version_minor": 0
            },
            "text/plain": [
              "Saving the dataset (0/1 shards):   0%|          | 0/1233 [00:00<?, ? examples/s]"
            ]
          },
          "metadata": {},
          "output_type": "display_data"
        },
        {
          "name": "stdout",
          "output_type": "stream",
          "text": [
            "HuggingFace dataset сохранен локально\n"
          ]
        },
        {
          "data": {
            "application/vnd.jupyter.widget-view+json": {
              "model_id": "c11a67d19dc1491485dc3a49f8def34d",
              "version_major": 2,
              "version_minor": 0
            },
            "text/plain": [
              "Uploading the dataset shards:   0%|          | 0/1 [00:00<?, ? shards/s]"
            ]
          },
          "metadata": {},
          "output_type": "display_data"
        },
        {
          "data": {
            "application/vnd.jupyter.widget-view+json": {
              "model_id": "258ed8bb2a4e4481a2845723726db4dc",
              "version_major": 2,
              "version_minor": 0
            },
            "text/plain": [
              "Creating parquet from Arrow format:   0%|          | 0/2 [00:00<?, ?ba/s]"
            ]
          },
          "metadata": {},
          "output_type": "display_data"
        },
        {
          "data": {
            "application/vnd.jupyter.widget-view+json": {
              "model_id": "9a81aa3bfb77429ca61071fe601d3969",
              "version_major": 2,
              "version_minor": 0
            },
            "text/plain": [
              "Processing Files (0 / 0)      : |          |  0.00B /  0.00B            "
            ]
          },
          "metadata": {},
          "output_type": "display_data"
        },
        {
          "data": {
            "application/vnd.jupyter.widget-view+json": {
              "model_id": "597d3a256e7f46c3b3fb8894cac463f3",
              "version_major": 2,
              "version_minor": 0
            },
            "text/plain": [
              "New Data Upload               : |          |  0.00B /  0.00B            "
            ]
          },
          "metadata": {},
          "output_type": "display_data"
        },
        {
          "data": {
            "application/vnd.jupyter.widget-view+json": {
              "model_id": "04305351590647e3afdfc30d7d265891",
              "version_major": 2,
              "version_minor": 0
            },
            "text/plain": [
              "                              : 100%|##########| 62.9kB / 62.9kB            "
            ]
          },
          "metadata": {},
          "output_type": "display_data"
        },
        {
          "name": "stdout",
          "output_type": "stream",
          "text": [
            "Датасет загружен в HuggingFace Hub!\n"
          ]
        }
      ],
      "source": [
        "# Обычно выполняется почти моментально\n",
        "# Иногда зависает - тогда вручную остановить и потом заново запустить\n",
        "# login(token=HF_TOKEN) # не нужно, если токен уже в переменных окружения\n",
        "\n",
        "# Обновление датасета в HuggingFace Hub:\n",
        "# - скачать, если существует, добавить новые пары, загрузить обратно\n",
        "try:\n",
        "    print(\"Попытка загрузки существующего датасета...\")\n",
        "\n",
        "    # если датасета нет, то это вызовет исключение\n",
        "    existing_dataset = load_dataset(\"psaw77/russian-spell-correction-dataset\")\n",
        "    print(f\"Найден существующий датасет с {len(existing_dataset['train'])} записями\")\n",
        "    \n",
        "    existing_df = existing_dataset['train'].to_pandas()\n",
        "    new_df = df.copy()\n",
        "    \n",
        "    # Индексы не нужны. HF их пересоздаст\n",
        "    if '__index_level_0__' in existing_df.columns:\n",
        "        existing_df = existing_df.drop(columns=['__index_level_0__'])\n",
        "    if '__index_level_0__' in new_df.columns:\n",
        "        new_df = new_df.drop(columns=['__index_level_0__'])\n",
        "    \n",
        "    # Объединяем датасеты\n",
        "    combined_df = pd.concat([existing_df, new_df], ignore_index=True)\n",
        "\n",
        "    # Удаляем дубликаты\n",
        "    print(f\"До удаления дубликатов: {len(combined_df)} записей\")\n",
        "    combined_df = combined_df.drop_duplicates(subset=['input', 'target'])\n",
        "    print(f\"После удаления дубликатов: {len(combined_df)} записей\")\n",
        "\n",
        "    # HuggingFace dataset из объединенных данных\n",
        "    dataset = Dataset.from_pandas(combined_df)\n",
        "    \n",
        "except Exception as e:\n",
        "    print(f\"Ошибка при загрузке существующего датасета: {e}\")\n",
        "    print(\"Создаем новый датасет...\")\n",
        "    \n",
        "    # HuggingFace dataset \n",
        "    dataset = Dataset.from_pandas(df)\n",
        "    \n",
        "# Сохраняем локально - может пригодиться для дообучения\n",
        "dataset.save_to_disk(\"russian_spell_correction_dataset\")\n",
        "print(\"HuggingFace dataset сохранен локально\")\n",
        "\n",
        "# Отправляем в HuggingFace Hub\n",
        "dataset.push_to_hub(\"psaw77/russian-spell-correction-dataset\")\n",
        "print(\"Датасет загружен в HuggingFace Hub!\")"
      ]
    },
    {
      "cell_type": "markdown",
      "metadata": {
        "id": "tg9OoCu1iPkG"
      },
      "source": [
        "## Шаг 4 (2 балла)\n",
        "\n",
        "Дообучите модель выше или любую другую модель, которая вам нравится, на собранных данных и протестируйте ее на нескольких ошибочно распознанных whisper-small моделью аудио. Дообучение мы разбирали на семинаре - можете посмотреть, как мы это делали там.\n",
        "\n",
        "Для оценки качества результата выведите на экран 10 текстов с предыдущего шага и их исправления с помощью модели.\n",
        "\n",
        "- Вы можете воспользовать структурой, предложенной в ячейке ниже, а можете написать код по-своему."
      ]
    },
    {
      "cell_type": "code",
      "execution_count": null,
      "metadata": {
        "id": "NrE_Ono2OK_J"
      },
      "outputs": [],
      "source": [
        "# !pip install --upgrade transformers datasets  # Уже установлено в первой ячейке"
      ]
    },
    {
      "cell_type": "markdown",
      "metadata": {},
      "source": [
        "### Модель для дообучения - та же, что и в шаге 2"
      ]
    },
    {
      "cell_type": "code",
      "execution_count": 28,
      "metadata": {
        "id": "3AdSsx1SgAXr"
      },
      "outputs": [
        {
          "data": {
            "text/plain": [
              "T5ForConditionalGeneration(\n",
              "  (shared): Embedding(32128, 768)\n",
              "  (encoder): T5Stack(\n",
              "    (embed_tokens): Embedding(32128, 768)\n",
              "    (block): ModuleList(\n",
              "      (0): T5Block(\n",
              "        (layer): ModuleList(\n",
              "          (0): T5LayerSelfAttention(\n",
              "            (SelfAttention): T5Attention(\n",
              "              (q): Linear(in_features=768, out_features=768, bias=False)\n",
              "              (k): Linear(in_features=768, out_features=768, bias=False)\n",
              "              (v): Linear(in_features=768, out_features=768, bias=False)\n",
              "              (o): Linear(in_features=768, out_features=768, bias=False)\n",
              "              (relative_attention_bias): Embedding(32, 12)\n",
              "            )\n",
              "            (layer_norm): T5LayerNorm()\n",
              "            (dropout): Dropout(p=0.1, inplace=False)\n",
              "          )\n",
              "          (1): T5LayerFF(\n",
              "            (DenseReluDense): T5DenseActDense(\n",
              "              (wi): Linear(in_features=768, out_features=3072, bias=False)\n",
              "              (wo): Linear(in_features=3072, out_features=768, bias=False)\n",
              "              (dropout): Dropout(p=0.1, inplace=False)\n",
              "              (act): ReLU()\n",
              "            )\n",
              "            (layer_norm): T5LayerNorm()\n",
              "            (dropout): Dropout(p=0.1, inplace=False)\n",
              "          )\n",
              "        )\n",
              "      )\n",
              "      (1-11): 11 x T5Block(\n",
              "        (layer): ModuleList(\n",
              "          (0): T5LayerSelfAttention(\n",
              "            (SelfAttention): T5Attention(\n",
              "              (q): Linear(in_features=768, out_features=768, bias=False)\n",
              "              (k): Linear(in_features=768, out_features=768, bias=False)\n",
              "              (v): Linear(in_features=768, out_features=768, bias=False)\n",
              "              (o): Linear(in_features=768, out_features=768, bias=False)\n",
              "            )\n",
              "            (layer_norm): T5LayerNorm()\n",
              "            (dropout): Dropout(p=0.1, inplace=False)\n",
              "          )\n",
              "          (1): T5LayerFF(\n",
              "            (DenseReluDense): T5DenseActDense(\n",
              "              (wi): Linear(in_features=768, out_features=3072, bias=False)\n",
              "              (wo): Linear(in_features=3072, out_features=768, bias=False)\n",
              "              (dropout): Dropout(p=0.1, inplace=False)\n",
              "              (act): ReLU()\n",
              "            )\n",
              "            (layer_norm): T5LayerNorm()\n",
              "            (dropout): Dropout(p=0.1, inplace=False)\n",
              "          )\n",
              "        )\n",
              "      )\n",
              "    )\n",
              "    (final_layer_norm): T5LayerNorm()\n",
              "    (dropout): Dropout(p=0.1, inplace=False)\n",
              "  )\n",
              "  (decoder): T5Stack(\n",
              "    (embed_tokens): Embedding(32128, 768)\n",
              "    (block): ModuleList(\n",
              "      (0): T5Block(\n",
              "        (layer): ModuleList(\n",
              "          (0): T5LayerSelfAttention(\n",
              "            (SelfAttention): T5Attention(\n",
              "              (q): Linear(in_features=768, out_features=768, bias=False)\n",
              "              (k): Linear(in_features=768, out_features=768, bias=False)\n",
              "              (v): Linear(in_features=768, out_features=768, bias=False)\n",
              "              (o): Linear(in_features=768, out_features=768, bias=False)\n",
              "              (relative_attention_bias): Embedding(32, 12)\n",
              "            )\n",
              "            (layer_norm): T5LayerNorm()\n",
              "            (dropout): Dropout(p=0.1, inplace=False)\n",
              "          )\n",
              "          (1): T5LayerCrossAttention(\n",
              "            (EncDecAttention): T5Attention(\n",
              "              (q): Linear(in_features=768, out_features=768, bias=False)\n",
              "              (k): Linear(in_features=768, out_features=768, bias=False)\n",
              "              (v): Linear(in_features=768, out_features=768, bias=False)\n",
              "              (o): Linear(in_features=768, out_features=768, bias=False)\n",
              "            )\n",
              "            (layer_norm): T5LayerNorm()\n",
              "            (dropout): Dropout(p=0.1, inplace=False)\n",
              "          )\n",
              "          (2): T5LayerFF(\n",
              "            (DenseReluDense): T5DenseActDense(\n",
              "              (wi): Linear(in_features=768, out_features=3072, bias=False)\n",
              "              (wo): Linear(in_features=3072, out_features=768, bias=False)\n",
              "              (dropout): Dropout(p=0.1, inplace=False)\n",
              "              (act): ReLU()\n",
              "            )\n",
              "            (layer_norm): T5LayerNorm()\n",
              "            (dropout): Dropout(p=0.1, inplace=False)\n",
              "          )\n",
              "        )\n",
              "      )\n",
              "      (1-11): 11 x T5Block(\n",
              "        (layer): ModuleList(\n",
              "          (0): T5LayerSelfAttention(\n",
              "            (SelfAttention): T5Attention(\n",
              "              (q): Linear(in_features=768, out_features=768, bias=False)\n",
              "              (k): Linear(in_features=768, out_features=768, bias=False)\n",
              "              (v): Linear(in_features=768, out_features=768, bias=False)\n",
              "              (o): Linear(in_features=768, out_features=768, bias=False)\n",
              "            )\n",
              "            (layer_norm): T5LayerNorm()\n",
              "            (dropout): Dropout(p=0.1, inplace=False)\n",
              "          )\n",
              "          (1): T5LayerCrossAttention(\n",
              "            (EncDecAttention): T5Attention(\n",
              "              (q): Linear(in_features=768, out_features=768, bias=False)\n",
              "              (k): Linear(in_features=768, out_features=768, bias=False)\n",
              "              (v): Linear(in_features=768, out_features=768, bias=False)\n",
              "              (o): Linear(in_features=768, out_features=768, bias=False)\n",
              "            )\n",
              "            (layer_norm): T5LayerNorm()\n",
              "            (dropout): Dropout(p=0.1, inplace=False)\n",
              "          )\n",
              "          (2): T5LayerFF(\n",
              "            (DenseReluDense): T5DenseActDense(\n",
              "              (wi): Linear(in_features=768, out_features=3072, bias=False)\n",
              "              (wo): Linear(in_features=3072, out_features=768, bias=False)\n",
              "              (dropout): Dropout(p=0.1, inplace=False)\n",
              "              (act): ReLU()\n",
              "            )\n",
              "            (layer_norm): T5LayerNorm()\n",
              "            (dropout): Dropout(p=0.1, inplace=False)\n",
              "          )\n",
              "        )\n",
              "      )\n",
              "    )\n",
              "    (final_layer_norm): T5LayerNorm()\n",
              "    (dropout): Dropout(p=0.1, inplace=False)\n",
              "  )\n",
              "  (lm_head): Linear(in_features=768, out_features=32128, bias=False)\n",
              ")"
            ]
          },
          "execution_count": 28,
          "metadata": {},
          "output_type": "execute_result"
        }
      ],
      "source": [
        "import torch\n",
        "from datasets import load_dataset\n",
        "from transformers import AutoTokenizer, AutoModelForSeq2SeqLM, DataCollatorForSeq2Seq, Seq2SeqTrainer, Seq2SeqTrainingArguments\n",
        "from huggingface_hub import login\n",
        "\n",
        "# Модель\n",
        "t5_ft_tokenizer = AutoTokenizer.from_pretrained(\"UrukHan/t5-russian-spell\")\n",
        "t5_ft_model = AutoModelForSeq2SeqLM.from_pretrained(\"UrukHan/t5-russian-spell\")\n",
        "t5_ft_model.to(device)\n"
      ]
    },
    {
      "cell_type": "markdown",
      "metadata": {},
      "source": [
        "### Подготовка данных"
      ]
    },
    {
      "cell_type": "code",
      "execution_count": 29,
      "metadata": {},
      "outputs": [
        {
          "data": {
            "application/vnd.jupyter.widget-view+json": {
              "model_id": "889f81d15e4b4242bc03877f79bafd9d",
              "version_major": 2,
              "version_minor": 0
            },
            "text/plain": [
              "README.md:   0%|          | 0.00/351 [00:00<?, ?B/s]"
            ]
          },
          "metadata": {},
          "output_type": "display_data"
        },
        {
          "data": {
            "application/vnd.jupyter.widget-view+json": {
              "model_id": "657be2a39daa4f2aa7fb66d1bac554e6",
              "version_major": 2,
              "version_minor": 0
            },
            "text/plain": [
              "data/train-00000-of-00001.parquet:   0%|          | 0.00/62.9k [00:00<?, ?B/s]"
            ]
          },
          "metadata": {},
          "output_type": "display_data"
        },
        {
          "data": {
            "application/vnd.jupyter.widget-view+json": {
              "model_id": "f22b3af3bb0b4832b319e2ba23ccdce5",
              "version_major": 2,
              "version_minor": 0
            },
            "text/plain": [
              "Generating train split:   0%|          | 0/1233 [00:00<?, ? examples/s]"
            ]
          },
          "metadata": {},
          "output_type": "display_data"
        },
        {
          "data": {
            "text/plain": [
              "DatasetDict({\n",
              "    train: Dataset({\n",
              "        features: ['input', 'target', '__index_level_0__'],\n",
              "        num_rows: 1109\n",
              "    })\n",
              "    test: Dataset({\n",
              "        features: ['input', 'target', '__index_level_0__'],\n",
              "        num_rows: 124\n",
              "    })\n",
              "})"
            ]
          },
          "execution_count": 29,
          "metadata": {},
          "output_type": "execute_result"
        }
      ],
      "source": [
        "# Загружаем свой CSV с парами (input → target)\n",
        "# если работает дольше 5 секунд - прервать и повторить\n",
        "# login(token=HF_TOKEN)\n",
        "full_dataset_2 = load_dataset(\"psaw77/russian-spell-correction-dataset\")\n",
        "dataset_2 = full_dataset_2['train'].train_test_split(test_size=0.1)\n",
        "dataset_2"
      ]
    },
    {
      "cell_type": "markdown",
      "metadata": {},
      "source": [
        "### Выбор `max_length` для токенизатора"
      ]
    },
    {
      "cell_type": "code",
      "execution_count": 30,
      "metadata": {},
      "outputs": [
        {
          "data": {
            "image/png": "[encoded data removed]",
            "text/plain": [
              "<Figure size 1200x600 with 2 Axes>"
            ]
          },
          "metadata": {},
          "output_type": "display_data"
        }
      ],
      "source": [
        "import matplotlib.pyplot as plt\n",
        "\n",
        "# Подсчет количества слов и токенов с использованием токенизатора\n",
        "train_word_counts = [len(example['input'].split()) for example in dataset_2['train']]\n",
        "train_token_counts = [len(t5_ft_tokenizer.tokenize(example['input'])) for example in dataset_2['train']]\n",
        "\n",
        "test_word_counts = [len(example['input'].split()) for example in dataset_2['test']]\n",
        "test_token_counts = [len(t5_ft_tokenizer.tokenize(example['input'])) for example in dataset_2['test']]\n",
        "\n",
        "# Визуализация результатов\n",
        "fig, axes = plt.subplots(1, 2, figsize=(12, 6), sharey=True)\n",
        "\n",
        "# Гистограмма для тренировочного набора данных\n",
        "axes[0].hist(train_word_counts, bins=30, alpha=0.7, label='Количество слов')\n",
        "axes[0].hist(train_token_counts, bins=30, alpha=0.7, label='Количество токенов')\n",
        "axes[0].set_title('Тренировочный набор данных')\n",
        "axes[0].set_xlabel('Количество')\n",
        "axes[0].set_ylabel('Частота')\n",
        "axes[0].legend()\n",
        "\n",
        "# Гистограмма для тестового набора данных\n",
        "axes[1].hist(test_word_counts, bins=30, alpha=0.7, label='Количество слов')\n",
        "axes[1].hist(test_token_counts, bins=30, alpha=0.7, label='Количество токенов')\n",
        "axes[1].set_title('Тестовый набор данных')\n",
        "axes[1].set_xlabel('Количество')\n",
        "axes[1].legend()\n",
        "\n",
        "plt.tight_layout()\n",
        "plt.show()"
      ]
    },
    {
      "cell_type": "code",
      "execution_count": 31,
      "metadata": {},
      "outputs": [
        {
          "data": {
            "application/vnd.jupyter.widget-view+json": {
              "model_id": "7f17b6816f5441deb0365f5bb933cc27",
              "version_major": 2,
              "version_minor": 0
            },
            "text/plain": [
              "Map:   0%|          | 0/1109 [00:00<?, ? examples/s]"
            ]
          },
          "metadata": {},
          "output_type": "display_data"
        },
        {
          "name": "stderr",
          "output_type": "stream",
          "text": [
            "/usr/local/lib/python3.12/dist-packages/transformers/tokenization_utils_base.py:4007: UserWarning: `as_target_tokenizer` is deprecated and will be removed in v5 of Transformers. You can tokenize your labels by using the argument `text_target` of the regular `__call__` method (either in the same call as your input texts if you use the same keyword arguments, or in a separate call.\n",
            "  warnings.warn(\n"
          ]
        },
        {
          "data": {
            "application/vnd.jupyter.widget-view+json": {
              "model_id": "e04bbe961d074913adb7680a60c431e8",
              "version_major": 2,
              "version_minor": 0
            },
            "text/plain": [
              "Map:   0%|          | 0/124 [00:00<?, ? examples/s]"
            ]
          },
          "metadata": {},
          "output_type": "display_data"
        }
      ],
      "source": [
        "MAX_LENGTH = 16\n",
        "# Токенизация\n",
        "def preprocess_batch(batch):\n",
        "    model_inputs = t5_ft_tokenizer(\n",
        "        batch['input'],\n",
        "        truncation=True,\n",
        "        max_length=MAX_LENGTH,\n",
        "        padding='max_length'\n",
        "    )\n",
        "    with t5_ft_tokenizer.as_target_tokenizer():\n",
        "        labels = t5_ft_tokenizer(\n",
        "            batch['target'],\n",
        "            truncation=True,\n",
        "            max_length=MAX_LENGTH,\n",
        "            padding='max_length'\n",
        "        )\n",
        "    model_inputs['labels'] = labels['input_ids']\n",
        "    return model_inputs\n",
        "\n",
        "dataset_2_tok = dataset_2.map(\n",
        "    preprocess_batch,\n",
        "    batched=True,\n",
        "    remove_columns=['input', 'target', '__index_level_0__']\n",
        ")"
      ]
    },
    {
      "cell_type": "code",
      "execution_count": 32,
      "metadata": {},
      "outputs": [
        {
          "data": {
            "text/plain": [
              "Dataset({\n",
              "    features: ['input_ids', 'attention_mask', 'labels'],\n",
              "    num_rows: 1109\n",
              "})"
            ]
          },
          "execution_count": 32,
          "metadata": {},
          "output_type": "execute_result"
        }
      ],
      "source": [
        "dataset_2_tok['train']"
      ]
    },
    {
      "cell_type": "markdown",
      "metadata": {},
      "source": [
        "### Дообучение"
      ]
    },
    {
      "cell_type": "code",
      "execution_count": 33,
      "metadata": {},
      "outputs": [],
      "source": [
        "dataset.set_format(type='torch', device='cuda')"
      ]
    },
    {
      "cell_type": "code",
      "execution_count": 34,
      "metadata": {},
      "outputs": [
        {
          "name": "stderr",
          "output_type": "stream",
          "text": [
            "/tmp/ipython-input-797034621.py:31: FutureWarning: `tokenizer` is deprecated and will be removed in version 5.0.0 for `Seq2SeqTrainer.__init__`. Use `processing_class` instead.\n",
            "  trainer = Seq2SeqTrainer(\n"
          ]
        },
        {
          "data": {
            "text/html": [
              "\n",
              "    <div>\n",
              "      \n",
              "      <progress value='210' max='210' style='width:300px; height:20px; vertical-align: middle;'></progress>\n",
              "      [210/210 00:35, Epoch 3/3]\n",
              "    </div>\n",
              "    <table border=\"1\" class=\"dataframe\">\n",
              "  <thead>\n",
              " <tr style=\"text-align: left;\">\n",
              "      <th>Step</th>\n",
              "      <th>Training Loss</th>\n",
              "    </tr>\n",
              "  </thead>\n",
              "  <tbody>\n",
              "    <tr>\n",
              "      <td>50</td>\n",
              "      <td>3.207500</td>\n",
              "    </tr>\n",
              "    <tr>\n",
              "      <td>100</td>\n",
              "      <td>0.270400</td>\n",
              "    </tr>\n",
              "    <tr>\n",
              "      <td>150</td>\n",
              "      <td>0.212600</td>\n",
              "    </tr>\n",
              "    <tr>\n",
              "      <td>200</td>\n",
              "      <td>0.171800</td>\n",
              "    </tr>\n",
              "  </tbody>\n",
              "</table><p>"
            ],
            "text/plain": [
              "<IPython.core.display.HTML object>"
            ]
          },
          "metadata": {},
          "output_type": "display_data"
        },
        {
          "name": "stderr",
          "output_type": "stream",
          "text": [
            "/usr/local/lib/python3.12/dist-packages/transformers/modeling_utils.py:4034: UserWarning: Moving the following attributes in the config to the generation config: {'max_length': 256}. You are seeing this warning because you've set generation parameters in the model config, as opposed to in the generation config.\n",
            "  warnings.warn(\n"
          ]
        },
        {
          "data": {
            "text/plain": [
              "('./models/t5-russian-spell-ft/tokenizer_config.json',\n",
              " './models/t5-russian-spell-ft/special_tokens_map.json',\n",
              " './models/t5-russian-spell-ft/spiece.model',\n",
              " './models/t5-russian-spell-ft/added_tokens.json',\n",
              " './models/t5-russian-spell-ft/tokenizer.json')"
            ]
          },
          "execution_count": 34,
          "metadata": {},
          "output_type": "execute_result"
        }
      ],
      "source": [
        "# Data collator\n",
        "data_collator = DataCollatorForSeq2Seq(\n",
        "    tokenizer=t5_ft_tokenizer,\n",
        "    model=t5_ft_model,\n",
        "    padding='longest'\n",
        ")\n",
        "\n",
        "output_dir = \"./models/t5-russian-spell-ft\"\n",
        "\n",
        "# Аргументы обучения\n",
        "training_args = Seq2SeqTrainingArguments(\n",
        "    output_dir=output_dir,\n",
        "    overwrite_output_dir=True,\n",
        "    num_train_epochs=3,\n",
        "    per_device_train_batch_size=16,\n",
        "    per_device_eval_batch_size=16,\n",
        "    learning_rate=3e-5,\n",
        "    weight_decay=0.01,\n",
        "    warmup_ratio=0.1,\n",
        "    lr_scheduler_type=\"linear\",\n",
        "    save_strategy=\"epoch\",\n",
        "    logging_strategy=\"steps\",\n",
        "    logging_steps=50,\n",
        "    predict_with_generate=True,\n",
        "    fp16=torch.cuda.is_available(),   # ускорение на GPU\n",
        "    gradient_accumulation_steps=1,\n",
        "    report_to=[]                      # без wandb\n",
        ")\n",
        "\n",
        "# Trainer\n",
        "trainer = Seq2SeqTrainer(\n",
        "    model=t5_ft_model,\n",
        "    args=training_args,\n",
        "    train_dataset=dataset_2_tok['train'],\n",
        "    eval_dataset=dataset_2_tok['test'],\n",
        "    data_collator=data_collator,\n",
        "    tokenizer=t5_ft_tokenizer,\n",
        ")\n",
        "\n",
        "# Запускаем обучение\n",
        "trainer.train()\n",
        "\n",
        "# Сохраняем дообученную модель\n",
        "trainer.save_model(output_dir)\n",
        "t5_ft_tokenizer.save_pretrained(output_dir)"
      ]
    },
    {
      "cell_type": "markdown",
      "metadata": {
        "id": "rnPx1UTMf6lQ"
      },
      "source": [
        "Примените дообученную модель. Как раз здесь для оценки качества результата выведите на экран 10 текстов с предыдущего шага и их исправления с помощью модели."
      ]
    },
    {
      "cell_type": "code",
      "execution_count": 35,
      "metadata": {
        "id": "-uVrL7hHgr-8"
      },
      "outputs": [
        {
          "name": "stdout",
          "output_type": "stream",
          "text": [
            "10 примеров: Whisper -> Fine-tuned T5\n",
            "============================================================\n",
            "Файл         : f9d9fa24-0e3c-430f-8e42-622a0fa0c6a5.txt\n",
            "Whisper      : Кейт Буш.\n",
            "T5 original  : Кейт Буш\n",
            "T5 fine-tuned: Кейт Буш\n",
            "------------------------------------------------------------\n",
            "Файл         : 776a335c-4817-4ed4-8a63-4b88bfaf1c2d.txt\n",
            "Whisper      : Мой сосед татура.\n",
            "T5 original  : Мой сосед Татура.\n",
            "T5 fine-tuned: Мой сосед Татура\n",
            "------------------------------------------------------------\n",
            "Файл         : c53908cc-adb1-418b-b68b-f67094fc4afd.txt\n",
            "Whisper      : Брайан Адамс\n",
            "T5 original  : Брайан Брайан Адамс\n",
            "T5 fine-tuned: Брайан Адамс\n",
            "------------------------------------------------------------\n",
            "Файл         : eebe7151-43f7-4e5f-af3d-d7a1a3ab2197.txt\n",
            "Whisper      : Александр Владимирович Попов\n",
            "T5 original  : Александр Владимирович Попов\n",
            "T5 fine-tuned: Александр Владимирович Попов\n",
            "------------------------------------------------------------\n",
            "Файл         : 537c7e5c-fda8-46f2-8395-4420dd34dec5.txt\n",
            "Whisper      : Барьмонт, Костянкин Дмитрий.\n",
            "T5 original  : Барьмонт, Костянкин, Дмитрий\n",
            "T5 fine-tuned: Барьмонт и Костянкин Дмитрий\n",
            "------------------------------------------------------------\n",
            "Файл         : 2e069c1d-11ba-4a51-84b1-f182b8a2999a.txt\n",
            "Whisper      : Олеша Юрий Карлович\n",
            "T5 original  : Олеша Юрий Карлович\n",
            "T5 fine-tuned: Олеша Юрий Карлович\n",
            "------------------------------------------------------------\n",
            "Файл         : 86cae6ee-fe19-43b7-b6c7-cd30736167b1.txt\n",
            "Whisper      : Жан-поль-сартер\n",
            "T5 original  : Жан-Поль-Сартер\n",
            "T5 fine-tuned: Жан-Поль-Сальтер\n",
            "------------------------------------------------------------\n",
            "Файл         : 4ca1580f-5414-49b8-b816-72f623733105.txt\n",
            "Whisper      : Ледниковый период\n",
            "T5 original  : Ледниковый период\n",
            "T5 fine-tuned: Ледниковый период\n",
            "------------------------------------------------------------\n",
            "Файл         : 13256106-9e6e-46fc-9c22-efec2a7de09f.txt\n",
            "Whisper      : Джим торп.\n",
            "T5 original  : Джим Торп\n",
            "T5 fine-tuned: Джим Торп\n",
            "------------------------------------------------------------\n",
            "Файл         : 84c7ed3f-4010-4de2-8a30-88a312be0bba.txt\n",
            "Whisper      : Смоки Робинсон\n",
            "T5 original  : Смоки Робинсон\n",
            "T5 fine-tuned: Смоки Робинсон\n",
            "------------------------------------------------------------\n"
          ]
        }
      ],
      "source": [
        "from transformers import AutoTokenizer, AutoModelForSeq2SeqLM\n",
        "\n",
        "# Загружаем дообученную модель\n",
        "ft_path = output_dir\n",
        "inf_tokenizer = AutoTokenizer.from_pretrained(ft_path)\n",
        "inf_model = AutoModelForSeq2SeqLM.from_pretrained(ft_path).to(device)\n",
        "inf_model.eval()\n",
        "\n",
        "# Применение модели к 10 примерам\n",
        "# возьмём 10 транскриптов Whisper (оригинальные .txt без _t5 и не _t5_ft)\n",
        "txt_files = [p for p in (DATA_ROOT).glob(\"*.txt\") if not p.name.endswith(\"_t5.txt\") and not p.name.endswith(\"_t5_ft.txt\")]\n",
        "sample_txt_files = random.sample(txt_files, k=min(10, len(txt_files)))\n",
        "\n",
        "print(\"10 примеров: Whisper -> Fine-tuned T5\")\n",
        "print(\"=\"*60)\n",
        "for p in sample_txt_files:\n",
        "    src = p.read_text(encoding=\"utf-8\").strip()\n",
        "    inputs = inf_tokenizer(src, return_tensors=\"pt\").to(inf_model.device)\n",
        "    with torch.no_grad():\n",
        "        gen_ids = inf_model.generate(**inputs, max_length=64)\n",
        "    pred = inf_tokenizer.decode(gen_ids[0], skip_special_tokens=True)\n",
        "\n",
        "    # путь к файлу с исправлениями предобученной T5 (из Шага 2)\n",
        "    t5_file = (DATA_ROOT / f\"{p.stem}_t5.txt\")\n",
        "    t5_file_text = t5_file.read_text(encoding=\"utf-8\").strip() if t5_file.exists() else \"(нет файла)\"\n",
        "\n",
        "    print(f\"Файл         : {p.name}\")\n",
        "    print(f\"Whisper      : {src}\")\n",
        "    print(f\"T5 original  : {t5_file_text}\")  # содержимое *_t5.txt для визуального сравнения\n",
        "    print(f\"T5 fine-tuned: {pred}\")\n",
        "    print(\"-\"*60)"
      ]
    },
    {
      "cell_type": "markdown",
      "metadata": {},
      "source": [
        "### Применение дообученной модели ко всем файлам"
      ]
    },
    {
      "cell_type": "code",
      "execution_count": 36,
      "metadata": {},
      "outputs": [
        {
          "data": {
            "application/vnd.jupyter.widget-view+json": {
              "model_id": "1ccb713ae6aa4190884a6d0e2c1865f3",
              "version_major": 2,
              "version_minor": 0
            },
            "text/plain": [
              "  0%|          | 0/100 [00:00<?, ?it/s]"
            ]
          },
          "metadata": {},
          "output_type": "display_data"
        }
      ],
      "source": [
        "# Обработаем все файлы моделью T5 fine-tuned\n",
        "txt_files = [\n",
        "    f for f in DATA_ROOT.rglob('*.txt')\n",
        "    if not f.name.endswith('_t5.txt') and not f.name.endswith('_t5_ft.txt')\n",
        "]\n",
        "\n",
        "for txt_file in tqdm(txt_files):\n",
        "    with open(txt_file, 'r', encoding='utf-8') as f:\n",
        "        transcription = f.read().strip()\n",
        "        input_ids = inf_tokenizer(transcription, return_tensors=\"pt\").input_ids.to(inf_model.device)\n",
        "        outputs = inf_model.generate(input_ids)\n",
        "        corrected_text = inf_tokenizer.decode(outputs[0], skip_special_tokens=True)\n",
        "        \n",
        "        new_filename = txt_file.stem + \"_t5_ft.txt\" \n",
        "        new_path = DATA_ROOT / new_filename\n",
        "        with open(new_path, 'w', encoding='utf-8') as f:\n",
        "            f.write(corrected_text)"
      ]
    },
    {
      "cell_type": "markdown",
      "metadata": {
        "id": "5tnKOwwAjNsF"
      },
      "source": [
        "## Шаг 5 (1 балл)\n",
        "\n",
        "Время считать метрики и возвращаться к дообучению модели по необходимости. В этом шаге мы оцениваем только выполнение задания, а не значения метрик.\n",
        "\n",
        "a) [Здесь](https://disk.yandex.ru/d/SPJU3lCt_cMDcw) лежат правильные ответы почти на все аудио - считайте метрики только для аудио, для которых мы дали вам ответы. Посчитайте [WER](https://docs.pytorch.org/torcheval/main/generated/torcheval.metrics.WordErrorRate.html) для модели whisper-small.\n",
        "\n",
        "б) Посчитайте WER для whisper-small + исправление опечаток предобученной моделью (модель выберите самостоятельно!)\n",
        "\n",
        "в) Посчитайте WER для whisper-small + дообученная Вами модель (данные для дообучения и модель выберите самостоятельно!)"
      ]
    },
    {
      "cell_type": "code",
      "execution_count": 37,
      "metadata": {
        "id": "8Ik_jNo2jNzC"
      },
      "outputs": [
        {
          "data": {
            "text/plain": [
              "{'url': 'http://storage.mds.yandex.net:80/get-voicetoloka/1872575/197f271b-b23f-4ee0-b240-e956a172d7af',\n",
              " 'text': 'жизнь других'}"
            ]
          },
          "execution_count": 37,
          "metadata": {},
          "output_type": "execute_result"
        }
      ],
      "source": [
        "# ваш код здесь\n",
        "import json\n",
        "\n",
        "# Файл `result_array.json` как-то уже скачали в текущую директорию\n",
        "with open('result_array.json', 'r', encoding='utf-8') as f:   \n",
        "    result_array = json.load(f)\n",
        "result_array[0]"
      ]
    },
    {
      "cell_type": "code",
      "execution_count": 41,
      "metadata": {},
      "outputs": [],
      "source": [
        "# Define a function to preprocess a single line\n",
        "import re\n",
        "\n",
        "def preprocess_line(line: str) -> str:\n",
        "    \"\"\"\n",
        "    Preprocesses a single line of text by:\n",
        "    1. Removing all punctuation except apostrophes.\n",
        "    2. Converting the text to lowercase.\n",
        "\n",
        "    Args:\n",
        "        line (str): The input line of text to preprocess.\n",
        "\n",
        "    Returns:\n",
        "        str: The preprocessed line of text.\n",
        "    \"\"\"\n",
        "    chars_to_ignore_regex = r'[\\,\\?\\.\\!\\-\\;\\:\\\"]'\n",
        "\n",
        "    line = re.sub(chars_to_ignore_regex, '', line)\n",
        "\n",
        "    return line.lower()"
      ]
    },
    {
      "cell_type": "code",
      "execution_count": 42,
      "metadata": {},
      "outputs": [
        {
          "name": "stdout",
          "output_type": "stream",
          "text": [
            "WER Whisper: 0.3974\n",
            "WER Whisper+T5 original: 0.8306\n",
            "WER Whisper+T5 fine-tuned: 0.4113\n"
          ]
        }
      ],
      "source": [
        "from torcheval.metrics import WordErrorRate\n",
        "\n",
        "wer_whisper = WordErrorRate()\n",
        "wer_t5 = WordErrorRate()\n",
        "wer_t5_ft = WordErrorRate()\n",
        "\n",
        "# Для всех файлов из result_array\n",
        "for item in result_array:\n",
        "    file_name = item['url'].split('/')[-1]\n",
        "    reference = preprocess_line(item['text'])\n",
        "    \n",
        "    # Whisper\n",
        "    try:\n",
        "        with open(DATA_ROOT / (file_name + '.txt'), 'r', encoding='utf-8') as f:\n",
        "            whisper_pred = preprocess_line(f.read().strip())\n",
        "        wer_whisper.update(reference, whisper_pred)\n",
        "    except FileNotFoundError:\n",
        "        continue\n",
        "    \n",
        "    # T5 original\n",
        "    try:\n",
        "        with open(DATA_ROOT / (file_name + '_t5.txt'), 'r', encoding='utf-8') as f:\n",
        "            t5_pred = preprocess_line(f.read().strip())\n",
        "        wer_t5.update(reference, t5_pred)\n",
        "    except FileNotFoundError:\n",
        "        continue\n",
        "    \n",
        "    # T5 fine-tuned\n",
        "    try:\n",
        "        with open(DATA_ROOT / (file_name + '_t5_ft.txt'), 'r', encoding='utf-8') as f:\n",
        "            t5_ft_pred = preprocess_line(f.read().strip())\n",
        "        wer_t5_ft.update(reference, t5_ft_pred)\n",
        "    except FileNotFoundError:\n",
        "        continue\n",
        "\n",
        "print(f\"WER Whisper: {wer_whisper.compute():.4f}\")\n",
        "print(f\"WER Whisper+T5 original: {wer_t5.compute():.4f}\")\n",
        "print(f\"WER Whisper+T5 fine-tuned: {wer_t5_ft.compute():.4f}\")"
      ]
    },
    {
      "cell_type": "markdown",
      "metadata": {
        "id": "_sUQNgLjj4lQ"
      },
      "source": [
        "## Шаг 6 (3 балла)\n",
        "\n",
        "В этом шаге предлагаем вам провести максимум рисерча и экспериментов для наиболее качественного решения задачи (в бесплатном google colab, без привлечения дополнительных мощностей)\n",
        "\n",
        "* Поищите предобученные модели, применение которых для задачи speech-to-text дает меньше опечаток (меньше WER)\n",
        "\n",
        "* Протестируйте несколько spell-correction моделей и сделайте выводы какая из них лучше (с точки зрения WER)\n",
        "\n",
        "* Возьмите лучшую из найденных моделей и попытайтесь улучшить ее через шаг 4, как делали ранее. Попробуйте немного изменить обучение в шаге 4, чтобы добиться еще более хороших результатов (изменить данные/гиперпараметры и т.п.) и проведите соответствующий эксперимент. Объясните почему ваша модификация шага 4 теоретически может улучшить результаты и сделайте выводы о том, получилось ли улучшить качество (если нет, то предположите почему)."
      ]
    },
    {
      "cell_type": "markdown",
      "metadata": {},
      "source": [
        "В 6-м шаге достаточно если сделал:\n",
        "- применил STT модель посильнее\n",
        "- попробовал алаймент результатов на паре открытых моделек (качество не оч)\n",
        "- взял одну из этих моделек и пофайнтюнил на своем датасете из п.4 ДЗ не доводя до конвергенции. То есть просто показал что файнтюнится, становится лучше и тп (к тому же модельку я взял файнтюнить вообще для англ языка)\n",
        "\n",
        "В целом достаточно! Ну надо текстом написать подробно выводы только"
      ]
    },
    {
      "cell_type": "code",
      "execution_count": null,
      "metadata": {
        "id": "W1oi72ysj9ao"
      },
      "outputs": [],
      "source": [
        "# ваши эксперименты здесь"
      ]
    }
  ],
  "metadata": {
    "accelerator": "GPU",
    "colab": {
      "authorship_tag": "ABX9TyNA0WBwajj0aat4A693n8Zo",
      "gpuType": "T4",
      "include_colab_link": true,
      "provenance": []
    },
    "kernelspec": {
      "display_name": "Python 3 (ipykernel)",
      "language": "python",
      "name": "python3"
    },
    "language_info": {
      "codemirror_mode": {
        "name": "ipython",
        "version": 3
      },
      "file_extension": ".py",
      "mimetype": "text/x-python",
      "name": "python",
      "nbconvert_exporter": "python",
      "pygments_lexer": "ipython3",
      "version": "3.12.11"
    }
  },
  "nbformat": 4,
  "nbformat_minor": 0
}
