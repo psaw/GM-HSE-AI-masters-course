{
  "nbformat": 4,
  "nbformat_minor": 0,
  "metadata": {
    "colab": {
      "provenance": [],
      "toc_visible": true
    },
    "kernelspec": {
      "name": "python3",
      "display_name": "Python 3"
    },
    "language_info": {
      "name": "python"
    }
  },
  "cells": [
    {
      "cell_type": "markdown",
      "metadata": {
        "id": "3jSuPtxGWtRc"
      },
      "source": [
        "<center><img src=\"img/logo_hse.png\" width=\"1000\"></center>\n",
        "\n",
        "<h1><center>Генеративные модели в машинном обучении, МОВС, ФКН ВШЭ</center></h1>\n",
        "<h2><center>Домашнее задание 3: Диффузия, потоки</center></h2>"
      ]
    },
    {
      "cell_type": "markdown",
      "metadata": {
        "id": "_hunq5DdWtRk"
      },
      "source": [
        "# Введение\n",
        "\n",
        "До заголовка \"Диффузионные модели\" все по-старому. Только Задания 1-2 теперь неоцениваемые, ведь вы их уже делали"
      ]
    },
    {
      "cell_type": "markdown",
      "metadata": {
        "id": "TXKCDwgWWtRm"
      },
      "source": [
        "## MAGIC – Major Atmospheric Gamma Imaging Cherenkov Telescope"
      ]
    },
    {
      "cell_type": "markdown",
      "metadata": {
        "id": "KEX6PnCJWtRn"
      },
      "source": [
        "MAGIC (Major Atmospheric Gamma Imaging Cherenkov) - это система, состоящая из двух черенковских телескопов диаметром 17 м. Они предназначены для наблюдения гамма-лучей от галактических и внегалактических источников в диапазоне очень высоких энергий (от 30 ГэВ до 100 ТэВ).\n",
        "\n",
        "MAGIC позволил открыть и исследовать новые классы источников гамма-излучения, таких как, например, пульсары и гамма-всплески (GRB).\n",
        "\n",
        "<center><img src=\"img/magic1.jpg\" width=\"1000\"></center>\n",
        "\n",
        "Источник: https://magic.mpp.mpg.de/\n",
        "\n",
        "Youtube video: https://youtu.be/mjcDSR2vSU8\n",
        "\n",
        "    Ок, давайте зафиксируем. Какой-то крутой телескоп позволяет открыть новые виды излучения. Идем дальше."
      ]
    },
    {
      "cell_type": "markdown",
      "metadata": {
        "id": "zJWFlBuLWtRn"
      },
      "source": [
        "## Частицы из космоса"
      ]
    },
    {
      "cell_type": "markdown",
      "metadata": {
        "id": "3C6P6t2SWtRo"
      },
      "source": [
        "Космические частицы, $\\gamma$-кванты (фотоны) и адроны (протоны), взаимодействуют с атмосферой и порождают ливни вторичных частиц. Двигаясь с околосветовой скоростью, эти частицы излучают Черенковское излучение. Телескопы фотографируют это излучение.\n",
        "\n",
        "    По фотографиям можно определить тип частицы из космоса: фотон или протон. Знакомая формулировка задачи, не правда ли?\n",
        "\n",
        "<center><img src=\"img/shower.jpg\" width=\"500\"></center>"
      ]
    },
    {
      "cell_type": "markdown",
      "metadata": {
        "id": "iSvQTPunWtRp"
      },
      "source": [
        "## Фотографии"
      ]
    },
    {
      "cell_type": "markdown",
      "metadata": {
        "id": "a6LMoG5aWtRp"
      },
      "source": [
        "Задача атмосферного черенковского телескопа - получить изображение ливня путем измерения черенковского света от частиц ливня. Это изображение представляет собой геометрическую проекцию ливня на детектор. Для анализа этих изображений были введены параметры изображения или так называемые параметры Хилласа. Ниже пример такой фотографии.\n",
        "\n",
        "<center><img src=\"img/geo.jpg\" width=\"400\"></center>\n",
        "\n",
        "    Итак, каждая фотография описывается набором параметров, которые за нас считает телесоп. А что там с двумя видами частиц?"
      ]
    },
    {
      "cell_type": "markdown",
      "metadata": {
        "id": "lVL2cgbiWtRq"
      },
      "source": [
        "## Фотоны vs адронов"
      ]
    },
    {
      "cell_type": "markdown",
      "metadata": {
        "id": "XO0leFmmWtRr"
      },
      "source": [
        "Изображения для $\\gamma$-квантов (фотонов) и адронов (протонов) отличаются по форме кластеров. Астрономы используют модели машинного обучения для классификации этих изображений. Получение каждого такого изображения - дорогое удовольствие!\n",
        "\n",
        "\n",
        "<center><img src=\"img/gamma_p.png\" width=\"600\"></center>\n",
        "\n",
        "Для обучения моделей ученые искусственно генерируют такие изображения для каждого типа частиц с помощью сложных физических симуляторов.\n",
        "\n",
        "    Итак, давайте сэкономим денег для ученых и сгенерируем хороших фотографий разных частиц. Используем для этого GAN и диффузионные модели!"
      ]
    },
    {
      "cell_type": "code",
      "execution_count": null,
      "metadata": {
        "id": "mRZJGQCTWtRr"
      },
      "outputs": [],
      "source": [
        "%matplotlib inline\n",
        "import matplotlib.pyplot as plt\n",
        "import numpy as np\n",
        "import pandas as pd"
      ]
    },
    {
      "cell_type": "markdown",
      "metadata": {
        "id": "m1I2_vkNWtRt"
      },
      "source": [
        "# Данные"
      ]
    },
    {
      "cell_type": "markdown",
      "metadata": {
        "id": "Pl99jao5WtRt"
      },
      "source": [
        "Будем использовать данные телескопа MAGIC из UCI репозитория https://archive.ics.uci.edu/ml/datasets/MAGIC+Gamma+Telescope. Каждый объект в данных - параметры одного изображения кластера и метка этого кластера (фотон или адрон):\n",
        "\n",
        "\n",
        "0. Length: major axis of ellipse [mm]\n",
        "1. Width: minor axis of ellipse [mm]\n",
        "2. Size: 10-log of sum of content of all pixels [in #phot]\n",
        "3. Conc: ratio of sum of two highest pixels over fSize [ratio]\n",
        "4. Conc1: ratio of highest pixel over fSize [ratio]\n",
        "5. Asym: distance from highest pixel to center, projected onto major axis [mm]\n",
        "6. M3Long: 3rd root of third moment along major axis [mm]\n",
        "7. M3Trans: 3rd root of third moment along minor axis [mm]\n",
        "8. Alpha: angle of major axis with vector to origin [deg]\n",
        "9. Dist: distance from origin to center of ellipse [mm]\n",
        "10. class: g,h # gamma (signal), hadron (background)"
      ]
    },
    {
      "cell_type": "code",
      "execution_count": null,
      "metadata": {
        "pycharm": {
          "is_executing": true
        },
        "id": "hzqKKAVZWtRu",
        "colab": {
          "base_uri": "https://localhost:8080/",
          "height": 223
        },
        "outputId": "a45e3e0d-21ae-460e-c272-c4c7c52000b6"
      },
      "outputs": [
        {
          "output_type": "stream",
          "name": "stdout",
          "text": [
            "(19020, 11)\n"
          ]
        },
        {
          "output_type": "execute_result",
          "data": {
            "text/plain": [
              "     Length     Width    Size    Conc   Conc1      Asym   M3Long  M3Trans  \\\n",
              "0   28.7967   16.0021  2.6449  0.3918  0.1982   27.7004  22.0110  -8.2027   \n",
              "1   31.6036   11.7235  2.5185  0.5303  0.3773   26.2722  23.8238  -9.9574   \n",
              "2  162.0520  136.0310  4.0612  0.0374  0.0187  116.7410 -64.8580 -45.2160   \n",
              "3   23.8172    9.5728  2.3385  0.6147  0.3922   27.2107  -6.4633  -7.1513   \n",
              "4   75.1362   30.9205  3.1611  0.3168  0.1832   -5.5277  28.5525  21.8393   \n",
              "\n",
              "     Alpha      Dist class  \n",
              "0  40.0920   81.8828     g  \n",
              "1   6.3609  205.2610     g  \n",
              "2  76.9600  256.7880     g  \n",
              "3  10.4490  116.7370     g  \n",
              "4   4.6480  356.4620     g  "
            ],
            "text/html": [
              "\n",
              "  <div id=\"df-f7f23e1f-114f-4dc1-9ce6-cd5b481eb86c\" class=\"colab-df-container\">\n",
              "    <div>\n",
              "<style scoped>\n",
              "    .dataframe tbody tr th:only-of-type {\n",
              "        vertical-align: middle;\n",
              "    }\n",
              "\n",
              "    .dataframe tbody tr th {\n",
              "        vertical-align: top;\n",
              "    }\n",
              "\n",
              "    .dataframe thead th {\n",
              "        text-align: right;\n",
              "    }\n",
              "</style>\n",
              "<table border=\"1\" class=\"dataframe\">\n",
              "  <thead>\n",
              "    <tr style=\"text-align: right;\">\n",
              "      <th></th>\n",
              "      <th>Length</th>\n",
              "      <th>Width</th>\n",
              "      <th>Size</th>\n",
              "      <th>Conc</th>\n",
              "      <th>Conc1</th>\n",
              "      <th>Asym</th>\n",
              "      <th>M3Long</th>\n",
              "      <th>M3Trans</th>\n",
              "      <th>Alpha</th>\n",
              "      <th>Dist</th>\n",
              "      <th>class</th>\n",
              "    </tr>\n",
              "  </thead>\n",
              "  <tbody>\n",
              "    <tr>\n",
              "      <th>0</th>\n",
              "      <td>28.7967</td>\n",
              "      <td>16.0021</td>\n",
              "      <td>2.6449</td>\n",
              "      <td>0.3918</td>\n",
              "      <td>0.1982</td>\n",
              "      <td>27.7004</td>\n",
              "      <td>22.0110</td>\n",
              "      <td>-8.2027</td>\n",
              "      <td>40.0920</td>\n",
              "      <td>81.8828</td>\n",
              "      <td>g</td>\n",
              "    </tr>\n",
              "    <tr>\n",
              "      <th>1</th>\n",
              "      <td>31.6036</td>\n",
              "      <td>11.7235</td>\n",
              "      <td>2.5185</td>\n",
              "      <td>0.5303</td>\n",
              "      <td>0.3773</td>\n",
              "      <td>26.2722</td>\n",
              "      <td>23.8238</td>\n",
              "      <td>-9.9574</td>\n",
              "      <td>6.3609</td>\n",
              "      <td>205.2610</td>\n",
              "      <td>g</td>\n",
              "    </tr>\n",
              "    <tr>\n",
              "      <th>2</th>\n",
              "      <td>162.0520</td>\n",
              "      <td>136.0310</td>\n",
              "      <td>4.0612</td>\n",
              "      <td>0.0374</td>\n",
              "      <td>0.0187</td>\n",
              "      <td>116.7410</td>\n",
              "      <td>-64.8580</td>\n",
              "      <td>-45.2160</td>\n",
              "      <td>76.9600</td>\n",
              "      <td>256.7880</td>\n",
              "      <td>g</td>\n",
              "    </tr>\n",
              "    <tr>\n",
              "      <th>3</th>\n",
              "      <td>23.8172</td>\n",
              "      <td>9.5728</td>\n",
              "      <td>2.3385</td>\n",
              "      <td>0.6147</td>\n",
              "      <td>0.3922</td>\n",
              "      <td>27.2107</td>\n",
              "      <td>-6.4633</td>\n",
              "      <td>-7.1513</td>\n",
              "      <td>10.4490</td>\n",
              "      <td>116.7370</td>\n",
              "      <td>g</td>\n",
              "    </tr>\n",
              "    <tr>\n",
              "      <th>4</th>\n",
              "      <td>75.1362</td>\n",
              "      <td>30.9205</td>\n",
              "      <td>3.1611</td>\n",
              "      <td>0.3168</td>\n",
              "      <td>0.1832</td>\n",
              "      <td>-5.5277</td>\n",
              "      <td>28.5525</td>\n",
              "      <td>21.8393</td>\n",
              "      <td>4.6480</td>\n",
              "      <td>356.4620</td>\n",
              "      <td>g</td>\n",
              "    </tr>\n",
              "  </tbody>\n",
              "</table>\n",
              "</div>\n",
              "    <div class=\"colab-df-buttons\">\n",
              "\n",
              "  <div class=\"colab-df-container\">\n",
              "    <button class=\"colab-df-convert\" onclick=\"convertToInteractive('df-f7f23e1f-114f-4dc1-9ce6-cd5b481eb86c')\"\n",
              "            title=\"Convert this dataframe to an interactive table.\"\n",
              "            style=\"display:none;\">\n",
              "\n",
              "  <svg xmlns=\"http://www.w3.org/2000/svg\" height=\"24px\" viewBox=\"0 -960 960 960\">\n",
              "    <path d=\"M120-120v-720h720v720H120Zm60-500h600v-160H180v160Zm220 220h160v-160H400v160Zm0 220h160v-160H400v160ZM180-400h160v-160H180v160Zm440 0h160v-160H620v160ZM180-180h160v-160H180v160Zm440 0h160v-160H620v160Z\"/>\n",
              "  </svg>\n",
              "    </button>\n",
              "\n",
              "  <style>\n",
              "    .colab-df-container {\n",
              "      display:flex;\n",
              "      gap: 12px;\n",
              "    }\n",
              "\n",
              "    .colab-df-convert {\n",
              "      background-color: #E8F0FE;\n",
              "      border: none;\n",
              "      border-radius: 50%;\n",
              "      cursor: pointer;\n",
              "      display: none;\n",
              "      fill: #1967D2;\n",
              "      height: 32px;\n",
              "      padding: 0 0 0 0;\n",
              "      width: 32px;\n",
              "    }\n",
              "\n",
              "    .colab-df-convert:hover {\n",
              "      background-color: #E2EBFA;\n",
              "      box-shadow: 0px 1px 2px rgba(60, 64, 67, 0.3), 0px 1px 3px 1px rgba(60, 64, 67, 0.15);\n",
              "      fill: #174EA6;\n",
              "    }\n",
              "\n",
              "    .colab-df-buttons div {\n",
              "      margin-bottom: 4px;\n",
              "    }\n",
              "\n",
              "    [theme=dark] .colab-df-convert {\n",
              "      background-color: #3B4455;\n",
              "      fill: #D2E3FC;\n",
              "    }\n",
              "\n",
              "    [theme=dark] .colab-df-convert:hover {\n",
              "      background-color: #434B5C;\n",
              "      box-shadow: 0px 1px 3px 1px rgba(0, 0, 0, 0.15);\n",
              "      filter: drop-shadow(0px 1px 2px rgba(0, 0, 0, 0.3));\n",
              "      fill: #FFFFFF;\n",
              "    }\n",
              "  </style>\n",
              "\n",
              "    <script>\n",
              "      const buttonEl =\n",
              "        document.querySelector('#df-f7f23e1f-114f-4dc1-9ce6-cd5b481eb86c button.colab-df-convert');\n",
              "      buttonEl.style.display =\n",
              "        google.colab.kernel.accessAllowed ? 'block' : 'none';\n",
              "\n",
              "      async function convertToInteractive(key) {\n",
              "        const element = document.querySelector('#df-f7f23e1f-114f-4dc1-9ce6-cd5b481eb86c');\n",
              "        const dataTable =\n",
              "          await google.colab.kernel.invokeFunction('convertToInteractive',\n",
              "                                                    [key], {});\n",
              "        if (!dataTable) return;\n",
              "\n",
              "        const docLinkHtml = 'Like what you see? Visit the ' +\n",
              "          '<a target=\"_blank\" href=https://colab.research.google.com/notebooks/data_table.ipynb>data table notebook</a>'\n",
              "          + ' to learn more about interactive tables.';\n",
              "        element.innerHTML = '';\n",
              "        dataTable['output_type'] = 'display_data';\n",
              "        await google.colab.output.renderOutput(dataTable, element);\n",
              "        const docLink = document.createElement('div');\n",
              "        docLink.innerHTML = docLinkHtml;\n",
              "        element.appendChild(docLink);\n",
              "      }\n",
              "    </script>\n",
              "  </div>\n",
              "\n",
              "\n",
              "<div id=\"df-14593d35-f6ec-4aa0-8889-9bed6ac952b5\">\n",
              "  <button class=\"colab-df-quickchart\" onclick=\"quickchart('df-14593d35-f6ec-4aa0-8889-9bed6ac952b5')\"\n",
              "            title=\"Suggest charts\"\n",
              "            style=\"display:none;\">\n",
              "\n",
              "<svg xmlns=\"http://www.w3.org/2000/svg\" height=\"24px\"viewBox=\"0 0 24 24\"\n",
              "     width=\"24px\">\n",
              "    <g>\n",
              "        <path d=\"M19 3H5c-1.1 0-2 .9-2 2v14c0 1.1.9 2 2 2h14c1.1 0 2-.9 2-2V5c0-1.1-.9-2-2-2zM9 17H7v-7h2v7zm4 0h-2V7h2v10zm4 0h-2v-4h2v4z\"/>\n",
              "    </g>\n",
              "</svg>\n",
              "  </button>\n",
              "\n",
              "<style>\n",
              "  .colab-df-quickchart {\n",
              "      --bg-color: #E8F0FE;\n",
              "      --fill-color: #1967D2;\n",
              "      --hover-bg-color: #E2EBFA;\n",
              "      --hover-fill-color: #174EA6;\n",
              "      --disabled-fill-color: #AAA;\n",
              "      --disabled-bg-color: #DDD;\n",
              "  }\n",
              "\n",
              "  [theme=dark] .colab-df-quickchart {\n",
              "      --bg-color: #3B4455;\n",
              "      --fill-color: #D2E3FC;\n",
              "      --hover-bg-color: #434B5C;\n",
              "      --hover-fill-color: #FFFFFF;\n",
              "      --disabled-bg-color: #3B4455;\n",
              "      --disabled-fill-color: #666;\n",
              "  }\n",
              "\n",
              "  .colab-df-quickchart {\n",
              "    background-color: var(--bg-color);\n",
              "    border: none;\n",
              "    border-radius: 50%;\n",
              "    cursor: pointer;\n",
              "    display: none;\n",
              "    fill: var(--fill-color);\n",
              "    height: 32px;\n",
              "    padding: 0;\n",
              "    width: 32px;\n",
              "  }\n",
              "\n",
              "  .colab-df-quickchart:hover {\n",
              "    background-color: var(--hover-bg-color);\n",
              "    box-shadow: 0 1px 2px rgba(60, 64, 67, 0.3), 0 1px 3px 1px rgba(60, 64, 67, 0.15);\n",
              "    fill: var(--button-hover-fill-color);\n",
              "  }\n",
              "\n",
              "  .colab-df-quickchart-complete:disabled,\n",
              "  .colab-df-quickchart-complete:disabled:hover {\n",
              "    background-color: var(--disabled-bg-color);\n",
              "    fill: var(--disabled-fill-color);\n",
              "    box-shadow: none;\n",
              "  }\n",
              "\n",
              "  .colab-df-spinner {\n",
              "    border: 2px solid var(--fill-color);\n",
              "    border-color: transparent;\n",
              "    border-bottom-color: var(--fill-color);\n",
              "    animation:\n",
              "      spin 1s steps(1) infinite;\n",
              "  }\n",
              "\n",
              "  @keyframes spin {\n",
              "    0% {\n",
              "      border-color: transparent;\n",
              "      border-bottom-color: var(--fill-color);\n",
              "      border-left-color: var(--fill-color);\n",
              "    }\n",
              "    20% {\n",
              "      border-color: transparent;\n",
              "      border-left-color: var(--fill-color);\n",
              "      border-top-color: var(--fill-color);\n",
              "    }\n",
              "    30% {\n",
              "      border-color: transparent;\n",
              "      border-left-color: var(--fill-color);\n",
              "      border-top-color: var(--fill-color);\n",
              "      border-right-color: var(--fill-color);\n",
              "    }\n",
              "    40% {\n",
              "      border-color: transparent;\n",
              "      border-right-color: var(--fill-color);\n",
              "      border-top-color: var(--fill-color);\n",
              "    }\n",
              "    60% {\n",
              "      border-color: transparent;\n",
              "      border-right-color: var(--fill-color);\n",
              "    }\n",
              "    80% {\n",
              "      border-color: transparent;\n",
              "      border-right-color: var(--fill-color);\n",
              "      border-bottom-color: var(--fill-color);\n",
              "    }\n",
              "    90% {\n",
              "      border-color: transparent;\n",
              "      border-bottom-color: var(--fill-color);\n",
              "    }\n",
              "  }\n",
              "</style>\n",
              "\n",
              "  <script>\n",
              "    async function quickchart(key) {\n",
              "      const quickchartButtonEl =\n",
              "        document.querySelector('#' + key + ' button');\n",
              "      quickchartButtonEl.disabled = true;  // To prevent multiple clicks.\n",
              "      quickchartButtonEl.classList.add('colab-df-spinner');\n",
              "      try {\n",
              "        const charts = await google.colab.kernel.invokeFunction(\n",
              "            'suggestCharts', [key], {});\n",
              "      } catch (error) {\n",
              "        console.error('Error during call to suggestCharts:', error);\n",
              "      }\n",
              "      quickchartButtonEl.classList.remove('colab-df-spinner');\n",
              "      quickchartButtonEl.classList.add('colab-df-quickchart-complete');\n",
              "    }\n",
              "    (() => {\n",
              "      let quickchartButtonEl =\n",
              "        document.querySelector('#df-14593d35-f6ec-4aa0-8889-9bed6ac952b5 button');\n",
              "      quickchartButtonEl.style.display =\n",
              "        google.colab.kernel.accessAllowed ? 'block' : 'none';\n",
              "    })();\n",
              "  </script>\n",
              "</div>\n",
              "    </div>\n",
              "  </div>\n"
            ],
            "application/vnd.google.colaboratory.intrinsic+json": {
              "type": "dataframe",
              "variable_name": "data",
              "summary": "{\n  \"name\": \"data\",\n  \"rows\": 19020,\n  \"fields\": [\n    {\n      \"column\": \"Length\",\n      \"properties\": {\n        \"dtype\": \"number\",\n        \"std\": 42.364854942802815,\n        \"min\": 4.2835,\n        \"max\": 334.177,\n        \"num_unique_values\": 18643,\n        \"samples\": [\n          29.3302,\n          61.2341,\n          40.7017\n        ],\n        \"semantic_type\": \"\",\n        \"description\": \"\"\n      }\n    },\n    {\n      \"column\": \"Width\",\n      \"properties\": {\n        \"dtype\": \"number\",\n        \"std\": 18.346056295681635,\n        \"min\": 0.0,\n        \"max\": 256.382,\n        \"num_unique_values\": 18200,\n        \"samples\": [\n          10.5168,\n          22.4704,\n          18.0348\n        ],\n        \"semantic_type\": \"\",\n        \"description\": \"\"\n      }\n    },\n    {\n      \"column\": \"Size\",\n      \"properties\": {\n        \"dtype\": \"number\",\n        \"std\": 0.4725986486893089,\n        \"min\": 1.9413,\n        \"max\": 5.3233,\n        \"num_unique_values\": 7228,\n        \"samples\": [\n          2.8136,\n          2.5121,\n          3.3903\n        ],\n        \"semantic_type\": \"\",\n        \"description\": \"\"\n      }\n    },\n    {\n      \"column\": \"Conc\",\n      \"properties\": {\n        \"dtype\": \"number\",\n        \"std\": 0.18281314722123734,\n        \"min\": 0.0131,\n        \"max\": 0.893,\n        \"num_unique_values\": 6410,\n        \"samples\": [\n          0.0997,\n          0.1842,\n          0.131\n        ],\n        \"semantic_type\": \"\",\n        \"description\": \"\"\n      }\n    },\n    {\n      \"column\": \"Conc1\",\n      \"properties\": {\n        \"dtype\": \"number\",\n        \"std\": 0.11051079890195728,\n        \"min\": 0.0003,\n        \"max\": 0.6752,\n        \"num_unique_values\": 4421,\n        \"samples\": [\n          0.4651,\n          0.0325,\n          0.1752\n        ],\n        \"semantic_type\": \"\",\n        \"description\": \"\"\n      }\n    },\n    {\n      \"column\": \"Asym\",\n      \"properties\": {\n        \"dtype\": \"number\",\n        \"std\": 59.20606198471514,\n        \"min\": -457.9161,\n        \"max\": 575.2407,\n        \"num_unique_values\": 18704,\n        \"samples\": [\n          -59.0369,\n          31.8588,\n          32.1961\n        ],\n        \"semantic_type\": \"\",\n        \"description\": \"\"\n      }\n    },\n    {\n      \"column\": \"M3Long\",\n      \"properties\": {\n        \"dtype\": \"number\",\n        \"std\": 51.00011801388597,\n        \"min\": -331.78,\n        \"max\": 238.321,\n        \"num_unique_values\": 18693,\n        \"samples\": [\n          -12.7648,\n          18.1689,\n          18.9666\n        ],\n        \"semantic_type\": \"\",\n        \"description\": \"\"\n      }\n    },\n    {\n      \"column\": \"M3Trans\",\n      \"properties\": {\n        \"dtype\": \"number\",\n        \"std\": 20.827438947228195,\n        \"min\": -205.8947,\n        \"max\": 179.851,\n        \"num_unique_values\": 18390,\n        \"samples\": [\n          -39.2878,\n          -9.7515,\n          -17.2016\n        ],\n        \"semantic_type\": \"\",\n        \"description\": \"\"\n      }\n    },\n    {\n      \"column\": \"Alpha\",\n      \"properties\": {\n        \"dtype\": \"number\",\n        \"std\": 26.103620510358212,\n        \"min\": 0.0,\n        \"max\": 90.0,\n        \"num_unique_values\": 17981,\n        \"samples\": [\n          8.3289,\n          5.86,\n          1.2801\n        ],\n        \"semantic_type\": \"\",\n        \"description\": \"\"\n      }\n    },\n    {\n      \"column\": \"Dist\",\n      \"properties\": {\n        \"dtype\": \"number\",\n        \"std\": 74.73178696313774,\n        \"min\": 1.2826,\n        \"max\": 495.561,\n        \"num_unique_values\": 18437,\n        \"samples\": [\n          290.884,\n          199.29,\n          171.345\n        ],\n        \"semantic_type\": \"\",\n        \"description\": \"\"\n      }\n    },\n    {\n      \"column\": \"class\",\n      \"properties\": {\n        \"dtype\": \"category\",\n        \"num_unique_values\": 2,\n        \"samples\": [\n          \"h\",\n          \"g\"\n        ],\n        \"semantic_type\": \"\",\n        \"description\": \"\"\n      }\n    }\n  ]\n}"
            }
          },
          "metadata": {},
          "execution_count": 3
        }
      ],
      "source": [
        "# read data\n",
        "names = np.array(\n",
        "    [\n",
        "        \"Length\",\n",
        "        \"Width\",\n",
        "        \"Size\",\n",
        "        \"Conc\",\n",
        "        \"Conc1\",\n",
        "        \"Asym\",\n",
        "        \"M3Long\",\n",
        "        \"M3Trans\",\n",
        "        \"Alpha\",\n",
        "        \"Dist\",\n",
        "        \"class\",\n",
        "    ]\n",
        ")\n",
        "data = pd.read_csv(\"data/magic04.data\", header=None)\n",
        "data.columns = names\n",
        "print(data.shape)\n",
        "data.head()"
      ]
    },
    {
      "cell_type": "markdown",
      "metadata": {
        "id": "D5P7gDoVWtRu"
      },
      "source": [
        "# Постановка задачи\n",
        "\n",
        "Ваша задача заключается в том, чтобы с помощью генеративно-состязательных сетей научиться генерировать параметры кластеров на изображениях телескопа для каждого типа частиц (фотона или адрона):\n",
        "\n",
        "- $X$ - матрица реальных объектов, которые нужно начиться генерировать;\n",
        "- $y$ - метки классов, которые будем использовать как условие при генерации."
      ]
    },
    {
      "cell_type": "code",
      "execution_count": null,
      "metadata": {
        "id": "FMlX3G5NWtRu"
      },
      "outputs": [],
      "source": [
        "# параметры кластеров на изображениях\n",
        "X = data[names[:-1]].values\n",
        "X = np.abs(X)\n",
        "\n",
        "# метки классов\n",
        "labels = data[names[-1]].values\n",
        "y = np.ones((len(labels), 1))\n",
        "y[labels == \"h\"] = 0"
      ]
    },
    {
      "cell_type": "code",
      "execution_count": null,
      "metadata": {
        "id": "mpnpu21HWtRv",
        "colab": {
          "base_uri": "https://localhost:8080/"
        },
        "outputId": "b93c940d-f5c5-46ff-e49a-65a69190950e"
      },
      "outputs": [
        {
          "output_type": "execute_result",
          "data": {
            "text/plain": [
              "array([[2.87967e+01, 1.60021e+01, 2.64490e+00, 3.91800e-01, 1.98200e-01,\n",
              "        2.77004e+01, 2.20110e+01, 8.20270e+00, 4.00920e+01, 8.18828e+01],\n",
              "       [3.16036e+01, 1.17235e+01, 2.51850e+00, 5.30300e-01, 3.77300e-01,\n",
              "        2.62722e+01, 2.38238e+01, 9.95740e+00, 6.36090e+00, 2.05261e+02]])"
            ]
          },
          "metadata": {},
          "execution_count": 5
        }
      ],
      "source": [
        "# примеры\n",
        "X[:2]"
      ]
    },
    {
      "cell_type": "code",
      "execution_count": null,
      "metadata": {
        "id": "YgiLpiQ1WtRv",
        "colab": {
          "base_uri": "https://localhost:8080/"
        },
        "outputId": "d1085d90-0cb7-429d-a840-600396de9349"
      },
      "outputs": [
        {
          "output_type": "execute_result",
          "data": {
            "text/plain": [
              "array([[1.],\n",
              "       [1.],\n",
              "       [1.],\n",
              "       [1.],\n",
              "       [1.],\n",
              "       [1.],\n",
              "       [1.],\n",
              "       [1.],\n",
              "       [1.],\n",
              "       [1.]])"
            ]
          },
          "metadata": {},
          "execution_count": 6
        }
      ],
      "source": [
        "# примеры\n",
        "y[:10]"
      ]
    },
    {
      "cell_type": "code",
      "execution_count": null,
      "metadata": {
        "id": "6NQe_unyWtRv",
        "colab": {
          "base_uri": "https://localhost:8080/"
        },
        "outputId": "20606df5-d13c-475f-9e08-f32fe1be151e"
      },
      "outputs": [
        {
          "output_type": "execute_result",
          "data": {
            "text/plain": [
              "array([0., 1.])"
            ]
          },
          "metadata": {},
          "execution_count": 7
        }
      ],
      "source": [
        "# все возможные значения\n",
        "np.unique(y)"
      ]
    },
    {
      "cell_type": "markdown",
      "metadata": {
        "id": "GvDvnoLaWtRw"
      },
      "source": [
        "# Визуализация данных"
      ]
    },
    {
      "cell_type": "markdown",
      "metadata": {
        "id": "vyNPbYDBWtRw"
      },
      "source": [
        "Каждое изображение описывается 10 параметрами. Давайте построим распределения значений каждого параметра для каждого типа частиц."
      ]
    },
    {
      "cell_type": "code",
      "execution_count": null,
      "metadata": {
        "id": "hBzXw28_WtRw"
      },
      "outputs": [],
      "source": [
        "def plot_hists(X1, X2, names, label1, label2, bins=np.linspace(-3, 3, 61)):\n",
        "    plt.figure(figsize=(5 * 4, 5 * 2))\n",
        "    for i in range(X1.shape[1]):\n",
        "        plt.subplot(3, 4, i + 1)\n",
        "        plt.grid()\n",
        "        plt.hist(X1[:, i], bins=bins, alpha=0.3, label=label1, color=\"C4\")\n",
        "        plt.hist(X2[:, i], bins=bins, alpha=0.3, label=label2, color=\"C0\")\n",
        "        plt.xlabel(names[i], size=14)\n",
        "        plt.legend(loc=\"best\")\n",
        "    plt.tight_layout()"
      ]
    },
    {
      "cell_type": "code",
      "execution_count": null,
      "metadata": {
        "id": "wcCsGP_LWtRx"
      },
      "outputs": [],
      "source": [
        "plot_hists(\n",
        "    X[y[:, 0] == 0], X[y[:, 0] == 1], names, label1=\"Hadrons\", label2=\"Photons\", bins=50\n",
        ")"
      ]
    },
    {
      "cell_type": "markdown",
      "metadata": {
        "id": "2JT5dqlcWtRx"
      },
      "source": [
        "# Предобработка данных"
      ]
    },
    {
      "cell_type": "markdown",
      "metadata": {
        "id": "r1KZgF_SWtRx"
      },
      "source": [
        "Из графика видим, что распределения для многих признаков имеют тяжелые хвосты. Это делает обучение генеративных моделей тяжелее. Поэтому нужно как-то преобразовать данные, чтобы убрать эти тяжелые хвосты."
      ]
    },
    {
      "cell_type": "markdown",
      "metadata": {
        "id": "hWe2u0ABWtRx"
      },
      "source": [
        "# Обучающая и тестовая выборки"
      ]
    },
    {
      "cell_type": "code",
      "execution_count": null,
      "metadata": {
        "id": "uPyQ_ABfWtRx"
      },
      "outputs": [],
      "source": [
        "from sklearn.model_selection import train_test_split\n",
        "\n",
        "# train / test split\n",
        "X_train, X_test, y_train, y_test = train_test_split(\n",
        "    X, y, stratify = y, test_size=0.5, shuffle = True, random_state = 11\n",
        ")"
      ]
    },
    {
      "cell_type": "markdown",
      "metadata": {
        "id": "LYOb8MxRWtRy"
      },
      "source": [
        "## Задание 1 (0 баллов)\n",
        "\n",
        "Проиллюстрируйте распределение y внутри train и test выборки."
      ]
    },
    {
      "cell_type": "code",
      "source": [
        "# your code below\n"
      ],
      "metadata": {
        "id": "w8B-QcGoF6R5"
      },
      "execution_count": null,
      "outputs": []
    },
    {
      "cell_type": "markdown",
      "metadata": {
        "id": "frXvR4rQWtRy"
      },
      "source": [
        "## Задание 2 (0 баллов)\n",
        "\n",
        "Используя функцию `sklearn.preprocessing.QuantileTransformer` трансформируйте входные данные `X_train` и `X_test`. Это преобразование делает так, чтобы распределение каждого параметра было нормальным. Описание функции доступно по [ссылке](http://scikit-learn.org/stable/modules/generated/sklearn.preprocessing.QuantileTransformer.html). Используйте значение параметра `output_distribution='normal'`."
      ]
    },
    {
      "cell_type": "code",
      "execution_count": null,
      "metadata": {
        "id": "_EvxTVmMWtRy"
      },
      "outputs": [],
      "source": [
        "### YOUR CODE IS HERE ######\n",
        "X_train = ...\n",
        "X_test = ...\n",
        "### THE END OF YOUR CODE ###"
      ]
    },
    {
      "cell_type": "code",
      "execution_count": null,
      "metadata": {
        "id": "_TssivkhWtRz"
      },
      "outputs": [],
      "source": [
        "plot_hists(\n",
        "    X_train[y_train[:, 0] == 0],\n",
        "    X_train[y_train[:, 0] == 1],\n",
        "    names,\n",
        "    label1=\"Hadrons\",\n",
        "    label2=\"Photons\",\n",
        "    bins=50,\n",
        ")"
      ]
    },
    {
      "cell_type": "code",
      "execution_count": null,
      "metadata": {
        "id": "qeKmdKR5WtRz"
      },
      "outputs": [],
      "source": [
        "plot_hists(X_train, X_test, names, label1=\"Train\", label2=\"Test\")"
      ]
    },
    {
      "cell_type": "markdown",
      "metadata": {
        "id": "IDHUPX_1WtR8"
      },
      "source": [
        "# Диффузионные модели (4 балла)\n",
        "\n",
        "Проведем, по большому счету, такой же эксперимент, как в ДЗ-2, с диффузионной моделью."
      ]
    },
    {
      "cell_type": "code",
      "source": [
        "import torch\n",
        "import torch.nn as nn\n",
        "import torch.nn.functional as F\n",
        "from torch.autograd import Variable\n",
        "from torch.utils.data import DataLoader, TensorDataset\n",
        "\n",
        "DEVICE = torch.device(\"cuda\" if torch.cuda.is_available() else \"cpu\")"
      ],
      "metadata": {
        "id": "h0ycziPFGZlr"
      },
      "execution_count": null,
      "outputs": []
    },
    {
      "cell_type": "markdown",
      "metadata": {
        "id": "JGPYgbB_WtR9"
      },
      "source": [
        "## Задание 3 (0.5 балла)\n",
        "\n",
        "Реализуйте фукнцию из семинара для зашумления данных, адаптировав ее под наш тип данных."
      ]
    },
    {
      "cell_type": "code",
      "execution_count": null,
      "metadata": {
        "id": "g-cad9C4WtR9"
      },
      "outputs": [],
      "source": [
        "def corrupt(x, amount):\n",
        "    ### YOUR CODE IS HERE ######\n",
        "    x = ...\n",
        "    ### THE END OF YOUR CODE ###\n",
        "    return x"
      ]
    },
    {
      "cell_type": "markdown",
      "metadata": {
        "id": "tphNqnJnWtR9"
      },
      "source": [
        "Добавим sсheduler, он пригодится вам при обучении модели.\n",
        "\n",
        "*Советуем вниматиельно почитать доку по шедулеру.*"
      ]
    },
    {
      "cell_type": "code",
      "execution_count": null,
      "metadata": {
        "id": "HZjxdPcxWtR9"
      },
      "outputs": [],
      "source": [
        "from diffusers import DDPMScheduler"
      ]
    },
    {
      "cell_type": "code",
      "execution_count": null,
      "metadata": {
        "id": "3F6AiyuWWtR-"
      },
      "outputs": [],
      "source": [
        "noise_scheduler = DDPMScheduler(num_train_timesteps=1000)\n",
        "plt.plot(noise_scheduler.alphas_cumprod.cpu() ** 0.5, label=r\"${\\sqrt{\\bar{\\alpha}_t}}$\")\n",
        "plt.plot((1 - noise_scheduler.alphas_cumprod.cpu()) ** 0.5, label=r\"$\\sqrt{(1 - \\bar{\\alpha}_t)}$\")\n",
        "plt.legend(fontsize=\"x-large\")"
      ]
    },
    {
      "cell_type": "markdown",
      "metadata": {
        "id": "0J8WWdmeWtR-"
      },
      "source": [
        "## Задание 4 (0.5 балла)\n",
        "\n",
        "Реализуйте нейронную сеть. В качетсве архитектуры можете взять модель генератора. В процессе экспериментов попробуйте изменять архитектуру модели для улучшения качества сгенерированных объектов (Кстати, как вы будете качество измерять?).\n",
        "\n",
        "- Полносвязный слой со 100 нейронами;\n",
        "- Слой батч-нормализации;\n",
        "- ReLU функцию активации;\n",
        "- Полносвязный слой со 100 нейронами;\n",
        "- Слой батч-нормализации;\n",
        "- ReLU функцию активации;\n",
        "- Выходной слой."
      ]
    },
    {
      "cell_type": "code",
      "execution_count": null,
      "metadata": {
        "id": "eaZw8gt4WtR-"
      },
      "outputs": [],
      "source": [
        "class DiffusionGenerator(nn.Module):\n",
        "    def __init__(self, n_inputs, n_outputs):\n",
        "        super(DiffusionGenerator, self).__init__()\n",
        "\n",
        "        ### YOUR CODE IS HERE ######\n",
        "\n",
        "        ### THE END OF YOUR CODE ###\n",
        "\n",
        "    def forward(self, z, y):\n",
        "        zy = torch.cat((z, y), dim=1)\n",
        "        return ..."
      ]
    },
    {
      "cell_type": "markdown",
      "metadata": {
        "id": "GMUhEOcKWtR-"
      },
      "source": [
        "## Задание 5 (0.5 балла)\n",
        "\n",
        "Напишите функцию для генерации нового объекта с помощью обученной модели."
      ]
    },
    {
      "cell_type": "code",
      "execution_count": null,
      "metadata": {
        "id": "38KFBi1nWtR_"
      },
      "outputs": [],
      "source": [
        "def generate_with_diffusion(model, y, latent_dim, sheduler):\n",
        "    ### YOUR CODE IS HERE ######\n",
        "    X_fake = ...\n",
        "    ### THE END OF YOUR CODE ###\n",
        "    return X_fake  # numpy"
      ]
    },
    {
      "cell_type": "markdown",
      "metadata": {
        "id": "c5lTYYIWWtR_"
      },
      "source": [
        "## Задание 6 (2 балла)\n",
        "\n",
        "Напишите класс обучения диффузионной модели и обучите модель, после чего опишите полученные результаты. В качестве подсказки - опирайтесь на семинар по диффузионным моделям. Вы можете изменять некоторые части кода для вашего удобства, но оставляйте в таком случаи комментарии, пожалуйста."
      ]
    },
    {
      "cell_type": "code",
      "execution_count": null,
      "metadata": {
        "id": "mmHcvNckWtR_"
      },
      "outputs": [],
      "source": [
        "class DiffusionFitter(object):\n",
        "    def __init__(\n",
        "        self,\n",
        "        model,\n",
        "        batch_size = 32,\n",
        "        n_epochs = 10,\n",
        "        latent_dim = 1,\n",
        "        lr = 0.0001,\n",
        "        n_critic=5,\n",
        "    ):\n",
        "\n",
        "        self.model = model\n",
        "        self.batch_size = batch_size\n",
        "        self.n_epochs = n_epochs\n",
        "        self.latent_dim = latent_dim\n",
        "        self.lr = lr\n",
        "        self.n_critic = n_critic\n",
        "\n",
        "        self.opt_gen = torch.optim.RMSprop(self.model.parameters(), lr=self.lr)\n",
        "\n",
        "        self.model.to(DEVICE)\n",
        "\n",
        "    def fit(self, X, y):\n",
        "\n",
        "        # numpy to tensor\n",
        "        X_real = torch.tensor(X, dtype=torch.float, device=DEVICE)\n",
        "        y_cond = torch.tensor(y, dtype=torch.float, device=DEVICE)\n",
        "\n",
        "        # tensor to dataset\n",
        "        dataset_real = TensorDataset(X_real, y_cond)\n",
        "\n",
        "        # Turn on training\n",
        "        self.model.train(True)\n",
        "\n",
        "        self.loss_history = []\n",
        "\n",
        "        # Fit\n",
        "        for epoch in range(self.n_epochs):\n",
        "            loss_epoch = 0\n",
        "            for i, (real_batch, cond_batch) in enumerate(\n",
        "                DataLoader(dataset_real, batch_size=self.batch_size, shuffle=True)\n",
        "            ):\n",
        "\n",
        "                ### YOUR CODE IS HERE ######\n",
        "\n",
        "                ...\n",
        "\n",
        "                loss_epoch += ...\n",
        "\n",
        "                ### THE END OF YOUR CODE ###\n",
        "\n",
        "            # caiculate and store loss after an epoch\n",
        "\n",
        "            self.loss_history.append(loss_epoch)\n",
        "\n",
        "            # Создайте выборку из 1000 объектов из X_train и 1000 сгенерированных объектов\n",
        "            # И запустите работу фукнции other_agent_score\n",
        "\n",
        "            ### YOUR CODE IS HERE ######\n",
        "            ...\n",
        "            ### THE END OF YOUR CODE ###\n",
        "\n",
        "        # Turn off training\n",
        "        self.model.train(False)"
      ]
    },
    {
      "cell_type": "code",
      "execution_count": null,
      "metadata": {
        "id": "nqy0kNTLWtR_"
      },
      "outputs": [],
      "source": [
        "%%time\n",
        "latent_dim = 10\n",
        "model = DiffusionGenerator(n_inputs=latent_dim + y.shape[1], n_outputs=X_train.shape[1])\n",
        "\n",
        "diffusionFitter = DiffusionFitter(\n",
        "    model,\n",
        "    batch_size=50,\n",
        "    n_epochs=100,\n",
        "    latent_dim=latent_dim,\n",
        "    lr=0.0001,\n",
        "    n_critic=5,\n",
        ")\n",
        "diffusionFitter.fit(X_train, y_train)"
      ]
    },
    {
      "cell_type": "code",
      "execution_count": null,
      "metadata": {
        "id": "rRHreyrRWtSA"
      },
      "outputs": [],
      "source": [
        "# diffusion learning curve\n",
        "plt.figure(figsize=(9, 5))\n",
        "plt.plot(diffusionFitter.loss_history)\n",
        "plt.xlabel(\"Epoch Number\", size=14)\n",
        "plt.ylabel(\"Loss Function\", size=14)\n",
        "plt.xticks(size=14)\n",
        "plt.yticks(size=14)\n",
        "plt.title(\"Conditional diffusing model Learning Curve\", size=14)\n",
        "plt.grid(b=1, linestyle=\"--\", linewidth=0.5, color=\"0.5\")\n",
        "plt.show()"
      ]
    },
    {
      "cell_type": "markdown",
      "metadata": {
        "id": "KCLwShFHWtSA"
      },
      "source": [
        "## Задание 7 (0.5 балла)\n",
        "По аналогии с прошлым экспериментом (из ДЗ-2) с GAN моделью сгенерируйте выборку фейковых объектов, равную размеру тестовой выборки, и обучите градиентный бустинг. Обучите модель отличать реальные объекты от фейковых, после чего расчитайте метрики ROC-AUC и accuracy score. Какие получились результаты? Как вы их оцениваете? А в сравнении с сWGAN моделью?"
      ]
    },
    {
      "cell_type": "code",
      "execution_count": null,
      "metadata": {
        "id": "T-o7ora7WtSA"
      },
      "outputs": [],
      "source": []
    },
    {
      "cell_type": "markdown",
      "source": [
        "# Потоки (4 балла)"
      ],
      "metadata": {
        "id": "uMtfEK4BI9X5"
      }
    },
    {
      "cell_type": "markdown",
      "metadata": {
        "id": "zzacjgizYNy7"
      },
      "source": [
        "## Задание 8 (1.5 балла)\n",
        "\n",
        "Диффузия показала себя как достойный конкурент GAN модели. Так как данных не много, обучали не долго, задача не сложная - отличия от GAN не так заметны, но все равно достойные.\n",
        "\n",
        "Для Diffusion получили ROC AUC около 0.73 (меньше лучше). Попробуем обучить RealNVP для решения этой задачи.\n",
        "\n",
        "**Дополните базовый класс для нормализационного необходимым.**"
      ]
    },
    {
      "cell_type": "markdown",
      "metadata": {
        "id": "P188MaT9YNy8"
      },
      "source": [
        "<center><img src=\"img/mem1.jpg\" width=\"500\"></center>\n",
        "\n",
        "<center><img src=\"img/mem2.jpg\" width=\"500\"></center>"
      ]
    },
    {
      "cell_type": "code",
      "execution_count": null,
      "metadata": {
        "id": "BvV0JBHFMSTs"
      },
      "outputs": [],
      "source": [
        "trainloader = torch.utils.data.DataLoader(X_train, batch_size=64, shuffle=True)"
      ]
    },
    {
      "cell_type": "code",
      "execution_count": null,
      "metadata": {
        "id": "pHID85lBMSTs"
      },
      "outputs": [],
      "source": [
        "# Main class for NormFlow\n",
        "class NormalizingFlow(nn.Module):\n",
        "\n",
        "    def __init__(self, layers, prior):\n",
        "        super(NormalizingFlow, self).__init__()\n",
        "\n",
        "        # your code below\n",
        "\n",
        "    def log_prob(self, x):\n",
        "        log_likelihood = None\n",
        "\n",
        "        for layer in self.layers:\n",
        "            x, change = layer.f(x)\n",
        "            if log_likelihood is not None:\n",
        "                log_likelihood = # your code here\n",
        "            else:\n",
        "                log_likelihood = # your code here\n",
        "\n",
        "        log_likelihood = # your code here\n",
        "\n",
        "        return log_likelihood.mean()\n",
        "\n",
        "    def sample(self, num_samples):\n",
        "        x = self.prior.sample((num_samples, ))\n",
        "\n",
        "        for layer in self.layers[::-1]:\n",
        "            x = layer.g(x)\n",
        "\n",
        "        return x"
      ]
    },
    {
      "cell_type": "markdown",
      "metadata": {
        "id": "vAAUc3nfr7FG"
      },
      "source": [
        "## Задание 9 (2 балла)\n",
        "\n",
        "Реализуйте нейронную сеть RealNVP. Возьмите для прямого и обратного преобразования нейронную сеть (функцию) со следующими параметрами:\n",
        "\n",
        "- Полносвязный слой со 100 нейронами;\n",
        "- ReLU функцию активации;\n",
        "- Выходной слой."
      ]
    },
    {
      "cell_type": "code",
      "execution_count": null,
      "metadata": {
        "id": "HAjxoMAAYNy8"
      },
      "outputs": [],
      "source": [
        "import torch.nn as nn\n",
        "\n",
        "class RealNVP(nn.Module):\n",
        "    def __init__(self, var_size, mask, hidden=100):\n",
        "        super(RealNVP, self).__init__()\n",
        "        self.mask = mask  # вам это может не понадобиться. Восприниматйте как подсказку\n",
        "        self.var_size = var_size\n",
        "\n",
        "        self.nn_t = # your code here\n",
        "        self.nn_s = # your code here\n",
        "\n",
        "    def f(self, x):\n",
        "        t = # your code here\n",
        "        s = # your code here\n",
        "\n",
        "        new_x = # your code here\n",
        "\n",
        "        log_det = # your code here\n",
        "        return new_x, log_det\n",
        "\n",
        "    def g(self, x):\n",
        "        t = # your code here\n",
        "        s = # your code here\n",
        "\n",
        "        new_x = # your code here\n",
        "        return new_x"
      ]
    },
    {
      "cell_type": "code",
      "execution_count": null,
      "metadata": {
        "id": "qj4osVMcMSTs"
      },
      "outputs": [],
      "source": [
        "def train_nf(tr_dataloader, nf, opt, num_epochs):\n",
        "    nf.train()\n",
        "    loss_trace = []\n",
        "\n",
        "    iter_i = 0\n",
        "\n",
        "    for epoch_i in range(num_epochs):\n",
        "        print(f'Epoch {epoch_i + 1}')\n",
        "        for batch in tr_dataloader:\n",
        "\n",
        "            x = batch.float()\n",
        "\n",
        "            opt.zero_grad()\n",
        "\n",
        "            loss = # your code here\n",
        "            loss.backward()\n",
        "\n",
        "            opt.step()\n",
        "\n",
        "            loss_trace.append((iter_i, loss.item()))\n",
        "\n",
        "            iter_i += 1"
      ]
    },
    {
      "cell_type": "code",
      "execution_count": null,
      "metadata": {
        "id": "sqjifuW7MSTs"
      },
      "outputs": [],
      "source": [
        "prior = torch.distributions.MultivariateNormal(torch.zeros(10), torch.eye(10))\n",
        "\n",
        "layers = []\n",
        "for i in range(4):\n",
        "    layers.append(RealNVP(var_size=10, mask=((torch.arange(10) + i) % 2)))\n",
        "\n",
        "nf = NormalizingFlow(layers=layers,\n",
        "                    prior=prior)\n",
        "\n",
        "opt = torch.optim.Adam(nf.parameters(), lr=1e-3)"
      ]
    },
    {
      "cell_type": "code",
      "execution_count": null,
      "metadata": {
        "id": "o024hDZGMSTt"
      },
      "outputs": [],
      "source": [
        "train_nf(trainloader, nf, opt, num_epochs=10)"
      ]
    },
    {
      "cell_type": "markdown",
      "source": [
        "## Задание 10 (0.5 балла)\n",
        "\n",
        "По аналогии с прошлым экспериментом с диффузией сгенерируйте выборку фейковых объектов, равную размеру тестовой выборки, и обучите градиентный бустинг. Обучите модель отличать реальные объекты от фейковых, после чего расчитайте метрики ROC-AUC и accuracy score. Какие получились результаты? Как вы их оцениваете? А в сравнении с остальными моделями?"
      ],
      "metadata": {
        "id": "LmhI67trKy_X"
      }
    },
    {
      "cell_type": "code",
      "source": [],
      "metadata": {
        "id": "_72UHTRlKnw-"
      },
      "execution_count": null,
      "outputs": []
    },
    {
      "cell_type": "markdown",
      "metadata": {
        "id": "mzZYttxEYNy8"
      },
      "source": [
        "# Улучшения (1+ балл)\n",
        "\n",
        "Попробуйте настроить параметры обучения какой-нибудь модели или еще как-нибудь их улучшить, чтобы получить как можно меньший ROC AUC. Что получилось? Какая модель лучше?\n",
        "\n",
        "Ставим 0.1 балл за каждую сотую скора сверх (сниз) ROC-AUC=0.65 невключительно. Т.е. за 0.65 получаете 0, за 0.649 -- 0.1, 0.639 -- 0.2, 0.609 -- 0.5, 0.559 -- 1"
      ]
    },
    {
      "cell_type": "code",
      "execution_count": null,
      "metadata": {
        "id": "-H8lX_sMYNy-"
      },
      "outputs": [],
      "source": [
        "# your code here\n"
      ]
    },
    {
      "cell_type": "markdown",
      "source": [
        "# (*) Аналитика (1 балл)\n",
        "\n",
        "***Убедительно* подвтердите или опровергните гипотезу \"Синтетические данные НЕ помогают лучше классифицировать частицы из исходного датасета.\"**\n",
        "\n",
        "Здесь от вас ожидается что-то в духе аналитической записки. Приветствуются графики и прочие \"умные вещи\". На максимальный балл это весьма объемное задание."
      ],
      "metadata": {
        "id": "Is3Ga-UNJUO-"
      }
    },
    {
      "cell_type": "code",
      "source": [],
      "metadata": {
        "id": "s3ySdJtVJSE-"
      },
      "execution_count": null,
      "outputs": []
    }
  ]
}